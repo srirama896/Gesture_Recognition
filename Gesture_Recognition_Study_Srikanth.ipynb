{
 "cells": [
  {
   "cell_type": "markdown",
   "metadata": {
    "id": "lFhBavWzU3cC"
   },
   "source": [
    "# Gesture Recognition\n",
    "In this group project, you are going to build a 3D Conv model that will be able to predict the 5 gestures correctly. Please import the following libraries to get started."
   ]
  },
  {
   "cell_type": "code",
   "execution_count": null,
   "metadata": {
    "id": "r9rL713XU3cG"
   },
   "outputs": [],
   "source": [
    "import numpy as np\n",
    "import os\n",
    "from imageio import imread\n",
    "import datetime\n",
    "import os\n",
    "import matplotlib.pyplot as plt"
   ]
  },
  {
   "cell_type": "code",
   "execution_count": null,
   "metadata": {
    "id": "8rlFj-bbgeoR"
   },
   "outputs": [],
   "source": [
    "from skimage.transform import resize"
   ]
  },
  {
   "cell_type": "markdown",
   "metadata": {
    "id": "SjlX_jZ4U3cJ"
   },
   "source": [
    "We set the random seed so that the results don't vary drastically."
   ]
  },
  {
   "cell_type": "code",
   "execution_count": null,
   "metadata": {
    "id": "9hhT4L69U3cK"
   },
   "outputs": [],
   "source": [
    "np.random.seed(30)\n",
    "import random as rn\n",
    "rn.seed(30)\n",
    "from keras import backend as K\n",
    "import tensorflow as tf\n",
    "tf.random.set_seed(30)"
   ]
  },
  {
   "cell_type": "code",
   "execution_count": null,
   "metadata": {
    "colab": {
     "base_uri": "https://localhost:8080/"
    },
    "id": "MtyTuwxUtkaJ",
    "outputId": "ca470fb3-45da-4628-e566-6bddadf0f3b9"
   },
   "outputs": [
    {
     "name": "stdout",
     "output_type": "stream",
     "text": [
      "Drive already mounted at /content/drive; to attempt to forcibly remount, call drive.mount(\"/content/drive\", force_remount=True).\n"
     ]
    }
   ],
   "source": [
    "from google.colab import drive\n",
    "drive.mount('/content/drive')"
   ]
  },
  {
   "cell_type": "markdown",
   "metadata": {
    "id": "cjTkuAFxU3cK"
   },
   "source": [
    "In this block, you read the folder names for training and validation. You also set the `batch_size` here. Note that you set the batch size in such a way that you are able to use the GPU in full capacity. You keep increasing the batch size until the machine throws an error."
   ]
  },
  {
   "cell_type": "code",
   "execution_count": null,
   "metadata": {
    "id": "0NAUOkVUU3cK"
   },
   "outputs": [],
   "source": [
    "train_doc = np.random.permutation(open('/content/drive/MyDrive/Project_data.zip (Unzipped Files)/Project_data/train.csv').readlines())\n",
    "val_doc = np.random.permutation(open('/content/drive/MyDrive/Project_data.zip (Unzipped Files)/Project_data/val.csv').readlines())\n",
    "batch_size = 64"
   ]
  },
  {
   "cell_type": "markdown",
   "metadata": {
    "id": "iKmJEqSZU3cL"
   },
   "source": [
    "## Generator\n",
    "This is one of the most important part of the code. The overall structure of the generator has been given. In the generator, you are going to preprocess the images as you have images of 2 different dimensions as well as create a batch of video frames. You have to experiment with `img_idx`, `y`,`z` and normalization such that you get high accuracy."
   ]
  },
  {
   "cell_type": "markdown",
   "metadata": {
    "id": "YeZlD2JhU3cM"
   },
   "source": [
    "Adding some functions to reuse them"
   ]
  },
  {
   "cell_type": "code",
   "execution_count": null,
   "metadata": {
    "id": "EV4PmKjBU3cM"
   },
   "outputs": [],
   "source": [
    "def cropResize(image, y, z):\n",
    "    h, w = image.shape\n",
    "    \n",
    "    # if smaller image crop at center for 120x120\n",
    "    if w == 160:\n",
    "        image = image[:120, 20:140]\n",
    "\n",
    "    # resize every image\n",
    "    return resize(image, (y,z))"
   ]
  },
  {
   "cell_type": "code",
   "execution_count": null,
   "metadata": {
    "id": "cgkOuSWLU3cN"
   },
   "outputs": [],
   "source": [
    "def normalizeImage(image):\n",
    "    # applying normalization\n",
    "    return image/255.0"
   ]
  },
  {
   "cell_type": "code",
   "execution_count": null,
   "metadata": {
    "id": "yc-KXhfHU3cN"
   },
   "outputs": [],
   "source": [
    "def preprocessImage(image, y, z):\n",
    "    return normalizeImage(cropResize(image, y, z))"
   ]
  },
  {
   "cell_type": "code",
   "execution_count": null,
   "metadata": {
    "colab": {
     "base_uri": "https://localhost:8080/"
    },
    "id": "WlJEQIl8U3cO",
    "outputId": "3064aad9-3b2e-4e3b-e6de-662a0a255437"
   },
   "outputs": [
    {
     "name": "stdout",
     "output_type": "stream",
     "text": [
      "# img_tensor = [array([ 0,  2,  3,  5,  6,  8,  9, 11, 12, 14, 15, 17, 18, 20, 21, 23, 24,\n",
      "       26, 27, 29]), 100, 100, 3]\n"
     ]
    }
   ],
   "source": [
    "def getImgTensor(n_frames):\n",
    "    img_idx = np.round(np.linspace(0, 29, n_frames)).astype(int)\n",
    "    return [img_idx, 100, 100, 3]\n",
    "\n",
    "# define image tensor size\n",
    "img_tensor = getImgTensor(20)\n",
    "print ('# img_tensor =', img_tensor)"
   ]
  },
  {
   "cell_type": "code",
   "execution_count": null,
   "metadata": {
    "id": "SSgN27s-U3cO"
   },
   "outputs": [],
   "source": [
    "def generator(source_path, folder_list, batch_size):\n",
    "    print( 'Source path = ', source_path, '; batch size =', batch_size)\n",
    "    [x,y,z] = [len(img_tensor[0]),img_tensor[1], img_tensor[2]]\n",
    "    print('Printing currently X, Y and Z:', x , y , z)\n",
    "    img_idx = img_tensor[0] #create a list of image numbers you want to use for a particular video\n",
    "    while True:\n",
    "        t = np.random.permutation(folder_list)\n",
    "        num_batches = len(t)//batch_size # calculate the number of batches\n",
    "        for batch in range(num_batches): # we iterate over the number of batches\n",
    "            batch_data = np.zeros((batch_size,x,y,z,3)) # x is the number of images you use for each video, (y,z) is the final size of the input images and 3 is the number of channels RGB\n",
    "            batch_labels = np.zeros((batch_size,5)) # batch_labels is the one hot representation of the output\n",
    "            for folder in range(batch_size): # iterate over the batch_size\n",
    "                imgs = os.listdir(source_path+'/'+ t[folder + (batch*batch_size)].split(';')[0]) # read all the images in the folder\n",
    "                for idx,item in enumerate(img_idx): #  Iterate iver the frames/images of a folder to read them in\n",
    "                    image = imread(source_path+'/'+ t[folder + (batch*batch_size)].strip().split(';')[0]+'/'+imgs[item]).astype(np.float32)\n",
    "                    \n",
    "                    #crop the images and resize them. Note that the images are of 2 different shape \n",
    "                    #and the conv3D will throw error if the inputs in a batch have different shapes\n",
    "                    \n",
    "                    batch_data[folder,idx,:,:,0] = preprocessImage(image[:, :, 0], y, z)\n",
    "                    batch_data[folder,idx,:,:,1] = preprocessImage(image[:, :, 1], y, z)\n",
    "                    batch_data[folder,idx,:,:,2] = preprocessImage(image[:, :, 2], y, z)\n",
    "                    \n",
    "                batch_labels[folder, int(t[folder + (batch*batch_size)].strip().split(';')[2])] = 1\n",
    "            yield batch_data, batch_labels #you yield the batch_data and the batch_labels, remember what does yield do     \n",
    "        # write the code for the remaining data points which are left after full batches\n",
    "        if len(folder_list)%batch_size != 0:\n",
    "            # updated the batch size and yield\n",
    "            batch_size = len(folder_list)%batch_size\n",
    "            batch_data = np.zeros((batch_size,x,y,z,3))  \n",
    "            batch_labels = np.zeros((batch_size,5)) \n",
    "            for folder in range(batch_size): # iterate over the batch_size\n",
    "                imgs = os.listdir(source_path+'/'+ t[folder + (batch*batch_size)].split(';')[0]) # read all the images in the folder\n",
    "                for idx,item in enumerate(img_idx): #  Iterate iver the frames/images of a folder to read them in\n",
    "                    image = imread(source_path+'/'+ t[folder + (batch*batch_size)].strip().split(';')[0]+'/'+imgs[item]).astype(np.float32)\n",
    "                    \n",
    "                    #crop the images and resize them. Note that the images are of 2 different shape \n",
    "                    #and the conv3D will throw error if the inputs in a batch have different shapes\n",
    "                    \n",
    "                    batch_data[folder,idx,:,:,0] = preprocessImage(image[:, :, 0], y, z)\n",
    "                    batch_data[folder,idx,:,:,1] = preprocessImage(image[:, :, 1], y, z)\n",
    "                    batch_data[folder,idx,:,:,2] = preprocessImage(image[:, :, 2], y, z)\n",
    "                    \n",
    "                batch_labels[folder, int(t[folder + (batch*batch_size)].strip().split(';')[2])] = 1\n",
    "            yield batch_data, batch_labels #you yield the batch_data and the batch_labels, remember what does yield do\n"
   ]
  },
  {
   "cell_type": "markdown",
   "metadata": {
    "id": "0DANDkNrU3cP"
   },
   "source": [
    "Note here that a video is represented above in the generator as (number of images, height, width, number of channels). Take this into consideration while creating the model architecture."
   ]
  },
  {
   "cell_type": "code",
   "execution_count": null,
   "metadata": {
    "colab": {
     "base_uri": "https://localhost:8080/"
    },
    "id": "9ZjjwEPbU3cP",
    "outputId": "98a2f3e9-ae6b-4e79-8b8f-8acfa46b7991"
   },
   "outputs": [
    {
     "name": "stdout",
     "output_type": "stream",
     "text": [
      "# training sequences = 663\n",
      "# validation sequences = 100\n",
      "# epochs = 10\n"
     ]
    }
   ],
   "source": [
    "curr_dt_time = datetime.datetime.now()\n",
    "train_path = '/content/drive/MyDrive/Project_data.zip (Unzipped Files)/Project_data/train'\n",
    "val_path = '/content/drive/MyDrive/Project_data.zip (Unzipped Files)/Project_data/val'\n",
    "num_train_sequences = len(train_doc)\n",
    "print('# training sequences =', num_train_sequences)\n",
    "num_val_sequences = len(val_doc)\n",
    "print('# validation sequences =', num_val_sequences)\n",
    "num_epochs = 10\n",
    "print ('# epochs =', num_epochs)"
   ]
  },
  {
   "cell_type": "markdown",
   "metadata": {
    "id": "mPW7lLD2U3cP"
   },
   "source": [
    "## Model\n",
    "Here you make the model using different functionalities that Keras provides. Remember to use `Conv3D` and `MaxPooling3D` and not `Conv2D` and `Maxpooling2D` for a 3D convolution model. You would want to use `TimeDistributed` while building a Conv2D + RNN model. Also remember that the last layer is the softmax. Design the network in such a way that the model is able to give good accuracy on the least number of parameters so that it can fit in the memory of the webcam."
   ]
  },
  {
   "cell_type": "code",
   "execution_count": null,
   "metadata": {
    "id": "-O4CYyxxU3cQ"
   },
   "outputs": [],
   "source": [
    "from keras.models import Sequential, Model\n",
    "from keras.layers import Dense, GRU, Flatten, TimeDistributed, Flatten, BatchNormalization, Activation, Dropout, LSTM\n",
    "from keras.layers.convolutional import Conv2D, Conv3D, MaxPooling3D, MaxPooling2D\n",
    "from keras.callbacks import ModelCheckpoint, ReduceLROnPlateau\n",
    "from keras import optimizers\n",
    "\n"
   ]
  },
  {
   "cell_type": "code",
   "execution_count": null,
   "metadata": {
    "id": "cyNFgUB9ORK_"
   },
   "outputs": [],
   "source": [
    "def make3dFilter(x):\n",
    "    return tuple([x]*3)\n",
    "\n",
    "def make2dFilter(x):\n",
    "    return tuple([x]*2)"
   ]
  },
  {
   "cell_type": "code",
   "execution_count": null,
   "metadata": {
    "id": "ZPtU02DUR-ZR"
   },
   "outputs": [],
   "source": [
    "#Base Model\n",
    "\n",
    "def defineModel(img_tensor):\n",
    "    inputShape = (len(img_tensor[0]), img_tensor[1], img_tensor[2], img_tensor[3])\n",
    "\n",
    "    model = Sequential()\n",
    "    model.add(Conv3D(16, make3dFilter(5), activation='relu', input_shape=inputShape)),\n",
    "    model.add(MaxPooling3D(make3dFilter(2), padding='same')),\n",
    "    model.add(BatchNormalization()),\n",
    "    model.add(Conv3D(32, make3dFilter(3), activation='relu')),\n",
    "    model.add(MaxPooling3D(pool_size=(1,2,2), padding='same')),\n",
    "    model.add(BatchNormalization()),\n",
    "    model.add(Conv3D(64, make3dFilter(3), activation='relu')),\n",
    "    model.add(MaxPooling3D(pool_size=(1,2,2), padding='same')),\n",
    "    model.add(BatchNormalization()),\n",
    "    model.add(Flatten()),\n",
    "    model.add(Dense(128, activation='relu')),\n",
    "    model.add(BatchNormalization()),\n",
    "    model.add(Dropout(0.25)),\n",
    "    model.add(Dense(64, activation='relu')),\n",
    "    model.add(BatchNormalization()),\n",
    "    model.add(Dropout(0.25)),\n",
    "    model.add(Dense(5, activation='softmax'))\n",
    "\n",
    "    model.compile(optimizer='adam', loss='categorical_crossentropy', metrics=['categorical_accuracy'])\n",
    "    return model\n"
   ]
  },
  {
   "cell_type": "markdown",
   "metadata": {
    "id": "2qDRybr8U3cQ"
   },
   "source": [
    "Now that you have written the model, the next step is to `compile` the model. When you print the `summary` of the model, you'll see the total number of parameters you have to train."
   ]
  },
  {
   "cell_type": "code",
   "execution_count": null,
   "metadata": {
    "colab": {
     "base_uri": "https://localhost:8080/"
    },
    "id": "Sprp5eU6U3cQ",
    "outputId": "71a1752e-2822-4704-d27f-95dc28697d54",
    "scrolled": true
   },
   "outputs": [
    {
     "name": "stdout",
     "output_type": "stream",
     "text": [
      "Model: \"sequential\"\n",
      "_________________________________________________________________\n",
      "Layer (type)                 Output Shape              Param #   \n",
      "=================================================================\n",
      "conv3d (Conv3D)              (None, 16, 96, 96, 16)    6016      \n",
      "_________________________________________________________________\n",
      "max_pooling3d (MaxPooling3D) (None, 8, 48, 48, 16)     0         \n",
      "_________________________________________________________________\n",
      "batch_normalization (BatchNo (None, 8, 48, 48, 16)     64        \n",
      "_________________________________________________________________\n",
      "conv3d_1 (Conv3D)            (None, 6, 46, 46, 32)     13856     \n",
      "_________________________________________________________________\n",
      "max_pooling3d_1 (MaxPooling3 (None, 6, 23, 23, 32)     0         \n",
      "_________________________________________________________________\n",
      "batch_normalization_1 (Batch (None, 6, 23, 23, 32)     128       \n",
      "_________________________________________________________________\n",
      "conv3d_2 (Conv3D)            (None, 4, 21, 21, 64)     55360     \n",
      "_________________________________________________________________\n",
      "max_pooling3d_2 (MaxPooling3 (None, 4, 11, 11, 64)     0         \n",
      "_________________________________________________________________\n",
      "batch_normalization_2 (Batch (None, 4, 11, 11, 64)     256       \n",
      "_________________________________________________________________\n",
      "flatten (Flatten)            (None, 30976)             0         \n",
      "_________________________________________________________________\n",
      "dense (Dense)                (None, 128)               3965056   \n",
      "_________________________________________________________________\n",
      "batch_normalization_3 (Batch (None, 128)               512       \n",
      "_________________________________________________________________\n",
      "dropout (Dropout)            (None, 128)               0         \n",
      "_________________________________________________________________\n",
      "dense_1 (Dense)              (None, 64)                8256      \n",
      "_________________________________________________________________\n",
      "batch_normalization_4 (Batch (None, 64)                256       \n",
      "_________________________________________________________________\n",
      "dropout_1 (Dropout)          (None, 64)                0         \n",
      "_________________________________________________________________\n",
      "dense_2 (Dense)              (None, 5)                 325       \n",
      "=================================================================\n",
      "Total params: 4,050,085\n",
      "Trainable params: 4,049,477\n",
      "Non-trainable params: 608\n",
      "_________________________________________________________________\n",
      "None\n"
     ]
    }
   ],
   "source": [
    "#optimiser = #write your optimizer\n",
    "#model.compile(optimizer=optimiser, loss='categorical_crossentropy', metrics=['categorical_accuracy'])\n",
    "model = defineModel(img_tensor)\n",
    "print (model.summary())"
   ]
  },
  {
   "cell_type": "markdown",
   "metadata": {
    "id": "bR2-pd05U3cQ"
   },
   "source": [
    "Let us create the `train_generator` and the `val_generator` which will be used in `.fit_generator`."
   ]
  },
  {
   "cell_type": "code",
   "execution_count": null,
   "metadata": {
    "id": "8BnlFvfQU3cR"
   },
   "outputs": [],
   "source": [
    "train_generator = generator(train_path, train_doc, batch_size)\n",
    "val_generator = generator(val_path, val_doc, batch_size)"
   ]
  },
  {
   "cell_type": "code",
   "execution_count": null,
   "metadata": {
    "colab": {
     "base_uri": "https://localhost:8080/",
     "height": 258
    },
    "id": "w8os_a4yOg4K",
    "outputId": "29504a56-94bf-4370-a6e7-db87ea2ae54e"
   },
   "outputs": [
    {
     "name": "stdout",
     "output_type": "stream",
     "text": [
      "Source path =  /content/drive/MyDrive/Project_data.zip (Unzipped Files)/Project_data/train ; batch size = 64\n",
      "Printing currently X, Y and Z: 20 100 100\n"
     ]
    },
    {
     "data": {
      "image/png": "[encoded data removed]",
      "text/plain": [
       "<Figure size 432x288 with 2 Axes>"
      ]
     },
     "metadata": {
      "needs_background": "light"
     },
     "output_type": "display_data"
    }
   ],
   "source": [
    "# plot generated sample images\n",
    "import matplotlib.pyplot as plt\n",
    "sample_batch_data, sample_batch_labels = next(train_generator)\n",
    "\n",
    "fig, ax = plt.subplots(1,2)\n",
    "ax[0].imshow(sample_batch_data[16,10,:,:,:])   \n",
    "ax[1].imshow(sample_batch_data[25,10,:,:,:])\n",
    "plt.show()"
   ]
  },
  {
   "cell_type": "code",
   "execution_count": null,
   "metadata": {
    "colab": {
     "base_uri": "https://localhost:8080/"
    },
    "id": "NKMx-MfvU3cR",
    "outputId": "5fa46660-2b65-4a9f-f924-3c4ff723fcdc"
   },
   "outputs": [
    {
     "name": "stdout",
     "output_type": "stream",
     "text": [
      "WARNING:tensorflow:`period` argument is deprecated. Please use `save_freq` to specify the frequency in number of batches seen.\n"
     ]
    }
   ],
   "source": [
    "model_name = 'model_init' + '_' + str(curr_dt_time).replace(' ','').replace(':','_') + '/'\n",
    "    \n",
    "if not os.path.exists(model_name):\n",
    "    os.mkdir(model_name)\n",
    "        \n",
    "filepath = model_name + 'model-{epoch:05d}-{loss:.5f}-{categorical_accuracy:.5f}-{val_loss:.5f}-{val_categorical_accuracy:.5f}.h5'\n",
    "\n",
    "checkpoint = ModelCheckpoint(filepath, monitor='val_loss', verbose=1, save_best_only=False, save_weights_only=False, mode='auto', period=1)\n",
    "\n",
    "LR = ReduceLROnPlateau(monitor='val_loss', factor=0.2, verbose=1, patience=4)\n",
    "callbacks_list = [checkpoint, LR]"
   ]
  },
  {
   "cell_type": "markdown",
   "metadata": {
    "id": "fcSDA8HtU3cR"
   },
   "source": [
    "The `steps_per_epoch` and `validation_steps` are used by `fit_generator` to decide the number of next() calls it need to make."
   ]
  },
  {
   "cell_type": "code",
   "execution_count": null,
   "metadata": {
    "id": "vjNx3IiqU3cR"
   },
   "outputs": [],
   "source": [
    "if (num_train_sequences%batch_size) == 0:\n",
    "    steps_per_epoch = int(num_train_sequences/batch_size)\n",
    "else:\n",
    "    steps_per_epoch = (num_train_sequences//batch_size) + 1\n",
    "\n",
    "if (num_val_sequences%batch_size) == 0:\n",
    "    validation_steps = int(num_val_sequences/batch_size)\n",
    "else:\n",
    "    validation_steps = (num_val_sequences//batch_size) + 1"
   ]
  },
  {
   "cell_type": "markdown",
   "metadata": {
    "id": "mSYV10gtU3cR"
   },
   "source": [
    "Let us now fit the model. This will start training the model and with the help of the checkpoints, you'll be able to save the model at the end of each epoch."
   ]
  },
  {
   "cell_type": "code",
   "execution_count": null,
   "metadata": {
    "colab": {
     "base_uri": "https://localhost:8080/"
    },
    "id": "7iwd0vQMU3cS",
    "outputId": "96a399be-b7cb-48ad-d6a3-8ca7736256c7"
   },
   "outputs": [
    {
     "name": "stderr",
     "output_type": "stream",
     "text": [
      "/usr/local/lib/python3.7/dist-packages/keras/engine/training.py:1972: UserWarning: `Model.fit_generator` is deprecated and will be removed in a future version. Please use `Model.fit`, which supports generators.\n",
      "  warnings.warn('`Model.fit_generator` is deprecated and '\n"
     ]
    },
    {
     "name": "stdout",
     "output_type": "stream",
     "text": [
      "Epoch 1/10\n",
      "11/11 [==============================] - ETA: 0s - loss: 1.5562 - categorical_accuracy: 0.4711   Source path =  /content/drive/MyDrive/Project_data.zip (Unzipped Files)/Project_data/val ; batch size = 64\n",
      "11/11 [==============================] - 7316s 728s/step - loss: 1.5562 - categorical_accuracy: 0.4711 - val_loss: 6.9380 - val_categorical_accuracy: 0.2000\n",
      "\n",
      "Epoch 00001: saving model to model_init_2021-09-2106_58_59.590883/model-00001-1.55622-0.47106-6.93799-0.20000.h5\n",
      "Epoch 2/10\n",
      "11/11 [==============================] - 338s 34s/step - loss: 1.0103 - categorical_accuracy: 0.6166 - val_loss: 6.5003 - val_categorical_accuracy: 0.2812\n",
      "\n",
      "Epoch 00002: saving model to model_init_2021-09-2106_58_59.590883/model-00002-1.01030-0.61660-6.50029-0.28125.h5\n",
      "Epoch 3/10\n",
      "11/11 [==============================] - 278s 28s/step - loss: 1.0244 - categorical_accuracy: 0.6403 - val_loss: 3.2276 - val_categorical_accuracy: 0.2679\n",
      "\n",
      "Epoch 00003: saving model to model_init_2021-09-2106_58_59.590883/model-00003-1.02444-0.64032-3.22765-0.26786.h5\n",
      "Epoch 4/10\n",
      "11/11 [==============================] - 119s 12s/step - loss: 0.8496 - categorical_accuracy: 0.6856 - val_loss: 3.4876 - val_categorical_accuracy: 0.3125\n",
      "\n",
      "Epoch 00004: saving model to model_init_2021-09-2106_58_59.590883/model-00004-0.84956-0.68559-3.48759-0.31250.h5\n",
      "Epoch 5/10\n",
      "11/11 [==============================] - 94s 9s/step - loss: 0.6082 - categorical_accuracy: 0.7464 - val_loss: 2.6509 - val_categorical_accuracy: 0.2188\n",
      "\n",
      "Epoch 00005: saving model to model_init_2021-09-2106_58_59.590883/model-00005-0.60817-0.74641-2.65089-0.21875.h5\n",
      "Epoch 6/10\n",
      "11/11 [==============================] - 66s 7s/step - loss: 0.8181 - categorical_accuracy: 0.7225 - val_loss: 2.0929 - val_categorical_accuracy: 0.2500\n",
      "\n",
      "Epoch 00006: saving model to model_init_2021-09-2106_58_59.590883/model-00006-0.81813-0.72249-2.09295-0.25000.h5\n",
      "Epoch 7/10\n",
      "11/11 [==============================] - 66s 6s/step - loss: 0.7641 - categorical_accuracy: 0.6915 - val_loss: 3.0656 - val_categorical_accuracy: 0.3750\n",
      "\n",
      "Epoch 00007: saving model to model_init_2021-09-2106_58_59.590883/model-00007-0.76415-0.69154-3.06561-0.37500.h5\n",
      "Epoch 8/10\n",
      "11/11 [==============================] - 62s 6s/step - loss: 0.4411 - categorical_accuracy: 0.8396 - val_loss: 4.3405 - val_categorical_accuracy: 0.2500\n",
      "\n",
      "Epoch 00008: saving model to model_init_2021-09-2106_58_59.590883/model-00008-0.44105-0.83957-4.34055-0.25000.h5\n",
      "Epoch 9/10\n",
      "11/11 [==============================] - 61s 6s/step - loss: 0.5640 - categorical_accuracy: 0.8128 - val_loss: 2.6912 - val_categorical_accuracy: 0.2500\n",
      "\n",
      "Epoch 00009: saving model to model_init_2021-09-2106_58_59.590883/model-00009-0.56400-0.81283-2.69116-0.25000.h5\n",
      "Epoch 10/10\n",
      " 2/11 [====>.........................] - ETA: 41s - loss: 0.4232 - categorical_accuracy: 0.7941"
     ]
    }
   ],
   "source": [
    "model.fit_generator(train_generator, steps_per_epoch=steps_per_epoch, epochs=num_epochs, verbose=1, \n",
    "                    callbacks=callbacks_list, validation_data=val_generator, \n",
    "                    validation_steps=validation_steps, class_weight=None, workers=1, initial_epoch=0)"
   ]
  },
  {
   "cell_type": "markdown",
   "metadata": {
    "id": "z-JP8XpI7P76"
   },
   "source": [
    "Evaluating Batch size "
   ]
  },
  {
   "cell_type": "code",
   "execution_count": null,
   "metadata": {
    "id": "DO5os-Dpyayo"
   },
   "outputs": [],
   "source": [
    "def EvaluateBatchSize(batch_size):\n",
    "    #img_tensor = getImgTensor(n_frames)\n",
    "    print(\"Current frames as\", img_tensor[0])\n",
    "    global callbacks_list\n",
    "    num_epochs = 3\n",
    "    train_generator = generator(train_path, train_doc, batch_size)\n",
    "    val_generator = generator(val_path, val_doc, batch_size)\n",
    "    if (num_train_sequences%batch_size) == 0:\n",
    "        steps_per_epoch = int(num_train_sequences/batch_size)\n",
    "    else:\n",
    "        steps_per_epoch = (num_train_sequences//batch_size) + 1\n",
    "\n",
    "    if (num_val_sequences%batch_size) == 0:\n",
    "        validation_steps = int(num_val_sequences/batch_size)\n",
    "    else:\n",
    "        validation_steps = (num_val_sequences//batch_size) + 1\n",
    "\n",
    "    model = defineModel(img_tensor)\n",
    "    model.fit_generator(train_generator, steps_per_epoch=steps_per_epoch, epochs=num_epochs, verbose=1, \n",
    "                callbacks=callbacks_list, validation_data=val_generator, \n",
    "                validation_steps=validation_steps, class_weight=None, workers=1, initial_epoch=0)"
   ]
  },
  {
   "cell_type": "code",
   "execution_count": null,
   "metadata": {
    "id": "uQNO8HlXU3cS"
   },
   "outputs": [],
   "source": [
    "# Checking for batch_size=64, n_frames=30\n",
    "img_tensor = getImgTensor(30)\n",
    "print ('# img_tensor =', img_tensor)\n",
    "EvaluateBatchSize(batch_size=64)"
   ]
  },
  {
   "cell_type": "code",
   "execution_count": null,
   "metadata": {
    "id": "oDTCwhFaDdU3"
   },
   "outputs": [],
   "source": [
    "# Checking for batch_size=64, n_frames=16\n",
    "img_tensor = getImgTensor(16)\n",
    "EvaluateBatchSize(batch_size=64)"
   ]
  },
  {
   "cell_type": "code",
   "execution_count": null,
   "metadata": {
    "id": "Rwn2qOUKDeDP"
   },
   "outputs": [],
   "source": [
    "# Checking for batch_size=32, n_frames=30\n",
    "img_tensor = getImgTensor(30)\n",
    "EvaluateBatchSize(batch_size=32)"
   ]
  },
  {
   "cell_type": "code",
   "execution_count": null,
   "metadata": {
    "id": "mUfX4LPODkYP"
   },
   "outputs": [],
   "source": [
    "# Checking for batch_size=32, n_frames=16\n",
    "img_tensor = getImgTensor(16)\n",
    "EvaluateBatchSize(batch_size=32)"
   ]
  },
  {
   "cell_type": "markdown",
   "metadata": {
    "id": "Hrlt3o_0DtHh"
   },
   "source": [
    "Observation: We can see that batch size is not impacting training time but number of frames does. We will use batch size of 64 as it seems optimal. **Note**: These lines are commented later as it takes a lot of time to run again."
   ]
  },
  {
   "cell_type": "code",
   "execution_count": null,
   "metadata": {
    "id": "oYsbm2kxdyP1"
   },
   "outputs": [],
   "source": [
    "def plotHistory(h):\n",
    "    fig, ax = plt.subplots(1, 2, figsize=(15,4))\n",
    "    ax[0].plot(h.history['loss'])   \n",
    "    ax[0].plot(h.history['val_loss'])\n",
    "    ax[0].legend(['loss','val_loss'])\n",
    "    ax[0].title.set_text(\"Train Loss vs Validation Loss\")\n",
    "\n",
    "    ax[1].plot(h.history['categorical_accuracy'])   \n",
    "    ax[1].plot(h.history['val_categorical_accuracy'])\n",
    "    ax[1].legend(['categorical_accuracy','val_categorical_accuracy'])\n",
    "    ax[1].title.set_text(\"Train Accuracy vs Validation Accuracy\")\n",
    "    plt.show()\n",
    "\n",
    "    print(\"Max. Training Accuracy\", max(h.history['categorical_accuracy']))\n",
    "    print(\"Max. Validaiton Accuracy\", max(h.history['val_categorical_accuracy']))"
   ]
  },
  {
   "cell_type": "markdown",
   "metadata": {
    "id": "pVFr_WjOE1d3"
   },
   "source": [
    "**Model 1**: With Frames-16, Epoc-20"
   ]
  },
  {
   "cell_type": "code",
   "execution_count": null,
   "metadata": {
    "colab": {
     "base_uri": "https://localhost:8080/"
    },
    "id": "gxtM7l2gE8GY",
    "outputId": "07dc7cd0-10e2-48db-d316-d626b95f4238"
   },
   "outputs": [
    {
     "name": "stdout",
     "output_type": "stream",
     "text": [
      "Model: \"conv_3d1\"\n",
      "_________________________________________________________________\n",
      "Layer (type)                 Output Shape              Param #   \n",
      "=================================================================\n",
      "conv3d_15 (Conv3D)           (None, 12, 96, 96, 16)    6016      \n",
      "_________________________________________________________________\n",
      "max_pooling3d_15 (MaxPooling (None, 6, 48, 48, 16)     0         \n",
      "_________________________________________________________________\n",
      "batch_normalization_25 (Batc (None, 6, 48, 48, 16)     64        \n",
      "_________________________________________________________________\n",
      "conv3d_16 (Conv3D)           (None, 4, 46, 46, 32)     13856     \n",
      "_________________________________________________________________\n",
      "max_pooling3d_16 (MaxPooling (None, 4, 23, 23, 32)     0         \n",
      "_________________________________________________________________\n",
      "batch_normalization_26 (Batc (None, 4, 23, 23, 32)     128       \n",
      "_________________________________________________________________\n",
      "conv3d_17 (Conv3D)           (None, 2, 21, 21, 64)     55360     \n",
      "_________________________________________________________________\n",
      "max_pooling3d_17 (MaxPooling (None, 2, 11, 11, 64)     0         \n",
      "_________________________________________________________________\n",
      "batch_normalization_27 (Batc (None, 2, 11, 11, 64)     256       \n",
      "_________________________________________________________________\n",
      "flatten_5 (Flatten)          (None, 15488)             0         \n",
      "_________________________________________________________________\n",
      "dense_15 (Dense)             (None, 128)               1982592   \n",
      "_________________________________________________________________\n",
      "batch_normalization_28 (Batc (None, 128)               512       \n",
      "_________________________________________________________________\n",
      "dropout_10 (Dropout)         (None, 128)               0         \n",
      "_________________________________________________________________\n",
      "dense_16 (Dense)             (None, 64)                8256      \n",
      "_________________________________________________________________\n",
      "batch_normalization_29 (Batc (None, 64)                256       \n",
      "_________________________________________________________________\n",
      "dropout_11 (Dropout)         (None, 64)                0         \n",
      "_________________________________________________________________\n",
      "dense_17 (Dense)             (None, 5)                 325       \n",
      "=================================================================\n",
      "Total params: 2,067,621\n",
      "Trainable params: 2,067,013\n",
      "Non-trainable params: 608\n",
      "_________________________________________________________________\n",
      "None\n",
      "Source path =  /content/drive/MyDrive/Project_data.zip (Unzipped Files)/Project_data/train ; batch size = 64\n",
      "Printing currently X, Y and Z: 16 100 100\n"
     ]
    },
    {
     "name": "stderr",
     "output_type": "stream",
     "text": [
      "/usr/local/lib/python3.7/dist-packages/keras/engine/training.py:1972: UserWarning: `Model.fit_generator` is deprecated and will be removed in a future version. Please use `Model.fit`, which supports generators.\n",
      "  warnings.warn('`Model.fit_generator` is deprecated and '\n"
     ]
    },
    {
     "name": "stdout",
     "output_type": "stream",
     "text": [
      "Epoch 1/20\n",
      "11/11 [==============================] - ETA: 0s - loss: 1.3885 - categorical_accuracy: 0.4811 Source path =  /content/drive/MyDrive/Project_data.zip (Unzipped Files)/Project_data/val ; batch size = 64\n",
      "Printing currently X, Y and Z: 16 100 100\n",
      "11/11 [==============================] - 212s 21s/step - loss: 1.3885 - categorical_accuracy: 0.4811 - val_loss: 4.5827 - val_categorical_accuracy: 0.2000\n",
      "\n",
      "Epoch 00001: saving model to model_init_2021-09-2111_00_57.498439/model-00001-1.38847-0.48115-4.58275-0.20000.h5\n",
      "Epoch 2/20\n",
      "11/11 [==============================] - 90s 9s/step - loss: 0.8953 - categorical_accuracy: 0.6245 - val_loss: 4.5148 - val_categorical_accuracy: 0.1875\n",
      "\n",
      "Epoch 00002: saving model to model_init_2021-09-2111_00_57.498439/model-00002-0.89525-0.62451-4.51476-0.18750.h5\n",
      "Epoch 3/20\n",
      "11/11 [==============================] - 83s 8s/step - loss: 1.0857 - categorical_accuracy: 0.5968 - val_loss: 6.4016 - val_categorical_accuracy: 0.2679\n",
      "\n",
      "Epoch 00003: saving model to model_init_2021-09-2111_00_57.498439/model-00003-1.08566-0.59684-6.40164-0.26786.h5\n",
      "Epoch 4/20\n",
      "11/11 [==============================] - 71s 7s/step - loss: 0.8649 - categorical_accuracy: 0.6567 - val_loss: 4.6473 - val_categorical_accuracy: 0.2500\n",
      "\n",
      "Epoch 00004: saving model to model_init_2021-09-2111_00_57.498439/model-00004-0.86492-0.65665-4.64726-0.25000.h5\n",
      "Epoch 5/20\n",
      "11/11 [==============================] - 65s 7s/step - loss: 0.6984 - categorical_accuracy: 0.7416 - val_loss: 2.7949 - val_categorical_accuracy: 0.3125\n",
      "\n",
      "Epoch 00005: saving model to model_init_2021-09-2111_00_57.498439/model-00005-0.69836-0.74163-2.79495-0.31250.h5\n",
      "Epoch 6/20\n",
      "11/11 [==============================] - 53s 5s/step - loss: 0.7476 - categorical_accuracy: 0.7225 - val_loss: 3.5569 - val_categorical_accuracy: 0.2500\n",
      "\n",
      "Epoch 00006: saving model to model_init_2021-09-2111_00_57.498439/model-00006-0.74763-0.72249-3.55687-0.25000.h5\n",
      "Epoch 7/20\n",
      "11/11 [==============================] - 54s 5s/step - loss: 0.6367 - categorical_accuracy: 0.7537 - val_loss: 6.2344 - val_categorical_accuracy: 0.0000e+00\n",
      "\n",
      "Epoch 00007: saving model to model_init_2021-09-2111_00_57.498439/model-00007-0.63672-0.75369-6.23438-0.00000.h5\n",
      "Epoch 8/20\n",
      "11/11 [==============================] - 49s 5s/step - loss: 0.6074 - categorical_accuracy: 0.7754 - val_loss: 5.3691 - val_categorical_accuracy: 0.1250\n",
      "\n",
      "Epoch 00008: saving model to model_init_2021-09-2111_00_57.498439/model-00008-0.60744-0.77540-5.36907-0.12500.h5\n",
      "Epoch 9/20\n",
      "11/11 [==============================] - 48s 5s/step - loss: 0.5412 - categorical_accuracy: 0.7914 - val_loss: 5.1765 - val_categorical_accuracy: 0.2500\n",
      "\n",
      "Epoch 00009: saving model to model_init_2021-09-2111_00_57.498439/model-00009-0.54121-0.79144-5.17652-0.25000.h5\n",
      "\n",
      "Epoch 00009: ReduceLROnPlateau reducing learning rate to 0.00020000000949949026.\n",
      "Epoch 10/20\n",
      "11/11 [==============================] - 51s 5s/step - loss: 0.7066 - categorical_accuracy: 0.7059 - val_loss: 5.0007 - val_categorical_accuracy: 0.2500\n",
      "\n",
      "Epoch 00010: saving model to model_init_2021-09-2111_00_57.498439/model-00010-0.70664-0.70588-5.00069-0.25000.h5\n",
      "Epoch 11/20\n",
      "11/11 [==============================] - 52s 5s/step - loss: 0.4751 - categorical_accuracy: 0.8021 - val_loss: 2.6610 - val_categorical_accuracy: 0.5000\n",
      "\n",
      "Epoch 00011: saving model to model_init_2021-09-2111_00_57.498439/model-00011-0.47510-0.80214-2.66095-0.50000.h5\n",
      "Epoch 12/20\n",
      "11/11 [==============================] - 49s 5s/step - loss: 0.4281 - categorical_accuracy: 0.8396 - val_loss: 2.2221 - val_categorical_accuracy: 0.2500\n",
      "\n",
      "Epoch 00012: saving model to model_init_2021-09-2111_00_57.498439/model-00012-0.42810-0.83957-2.22209-0.25000.h5\n",
      "Epoch 13/20\n",
      "11/11 [==============================] - 50s 5s/step - loss: 0.3614 - categorical_accuracy: 0.8770 - val_loss: 1.0952 - val_categorical_accuracy: 0.5000\n",
      "\n",
      "Epoch 00013: saving model to model_init_2021-09-2111_00_57.498439/model-00013-0.36137-0.87701-1.09524-0.50000.h5\n",
      "Epoch 14/20\n",
      "11/11 [==============================] - 46s 5s/step - loss: 0.3714 - categorical_accuracy: 0.8717 - val_loss: 0.7198 - val_categorical_accuracy: 0.7500\n",
      "\n",
      "Epoch 00014: saving model to model_init_2021-09-2111_00_57.498439/model-00014-0.37138-0.87166-0.71983-0.75000.h5\n",
      "Epoch 15/20\n",
      "11/11 [==============================] - 50s 5s/step - loss: 0.3271 - categorical_accuracy: 0.9144 - val_loss: 1.6405 - val_categorical_accuracy: 0.3750\n",
      "\n",
      "Epoch 00015: saving model to model_init_2021-09-2111_00_57.498439/model-00015-0.32709-0.91444-1.64055-0.37500.h5\n",
      "Epoch 16/20\n",
      "11/11 [==============================] - 51s 5s/step - loss: 0.2931 - categorical_accuracy: 0.8984 - val_loss: 1.0559 - val_categorical_accuracy: 0.7500\n",
      "\n",
      "Epoch 00016: saving model to model_init_2021-09-2111_00_57.498439/model-00016-0.29315-0.89840-1.05589-0.75000.h5\n",
      "Epoch 17/20\n",
      "11/11 [==============================] - 50s 5s/step - loss: 0.2847 - categorical_accuracy: 0.9037 - val_loss: 1.3156 - val_categorical_accuracy: 0.5000\n",
      "\n",
      "Epoch 00017: saving model to model_init_2021-09-2111_00_57.498439/model-00017-0.28466-0.90374-1.31564-0.50000.h5\n",
      "Epoch 18/20\n",
      "11/11 [==============================] - 50s 5s/step - loss: 0.2821 - categorical_accuracy: 0.8984 - val_loss: 1.0310 - val_categorical_accuracy: 0.6250\n",
      "\n",
      "Epoch 00018: saving model to model_init_2021-09-2111_00_57.498439/model-00018-0.28213-0.89840-1.03105-0.62500.h5\n",
      "\n",
      "Epoch 00018: ReduceLROnPlateau reducing learning rate to 4.0000001899898055e-05.\n",
      "Epoch 19/20\n",
      "11/11 [==============================] - 47s 5s/step - loss: 0.2680 - categorical_accuracy: 0.9091 - val_loss: 0.7798 - val_categorical_accuracy: 0.6250\n",
      "\n",
      "Epoch 00019: saving model to model_init_2021-09-2111_00_57.498439/model-00019-0.26801-0.90909-0.77976-0.62500.h5\n",
      "Epoch 20/20\n",
      "11/11 [==============================] - 49s 5s/step - loss: 0.3609 - categorical_accuracy: 0.8984 - val_loss: 0.6710 - val_categorical_accuracy: 0.6250\n",
      "\n",
      "Epoch 00020: saving model to model_init_2021-09-2111_00_57.498439/model-00020-0.36089-0.89840-0.67096-0.62500.h5\n"
     ]
    }
   ],
   "source": [
    "n_frames = 16\n",
    "num_epochs = 20\n",
    "batch_size = 64\n",
    "\n",
    "img_tensor = getImgTensor(n_frames)\n",
    "train_generator = generator(train_path, train_doc, batch_size)\n",
    "val_generator = generator(val_path, val_doc, batch_size)\n",
    "\n",
    "if (num_train_sequences%batch_size) == 0:\n",
    "    steps_per_epoch = int(num_train_sequences/batch_size)\n",
    "else:\n",
    "    steps_per_epoch = (num_train_sequences//batch_size) + 1\n",
    "\n",
    "if (num_val_sequences%batch_size) == 0:\n",
    "    validation_steps = int(num_val_sequences/batch_size)\n",
    "else:\n",
    "    validation_steps = (num_val_sequences//batch_size) + 1\n",
    "    \n",
    "inputShape = (len(img_tensor[0]), img_tensor[1], img_tensor[2], img_tensor[3])\n",
    "\n",
    "model1 = Sequential([\n",
    "    Conv3D(16, make3dFilter(5), activation='relu', input_shape=inputShape),\n",
    "    MaxPooling3D(make3dFilter(2), padding='same'),\n",
    "    BatchNormalization(),\n",
    "\n",
    "    Conv3D(32, make3dFilter(3), activation='relu'),\n",
    "    MaxPooling3D(pool_size=(1,2,2), padding='same'),\n",
    "    BatchNormalization(),\n",
    "\n",
    "    Conv3D(64, make3dFilter(3), activation='relu'),\n",
    "    MaxPooling3D(pool_size=(1,2,2), padding='same'),\n",
    "    BatchNormalization(),\n",
    "\n",
    "    Flatten(),\n",
    "    Dense(128, activation='relu'),\n",
    "    BatchNormalization(),\n",
    "    Dropout(0.25),\n",
    "\n",
    "    Dense(64, activation='relu'),\n",
    "    BatchNormalization(),\n",
    "    Dropout(0.25),\n",
    "\n",
    "    Dense(5, activation='softmax')\n",
    "], name=\"conv_3d1\")\n",
    "model1.compile(optimizer='adam', loss='categorical_crossentropy', metrics=['categorical_accuracy'])\n",
    "print(model1.summary())\n",
    "\n",
    "model1_history = model1.fit_generator(train_generator, steps_per_epoch=steps_per_epoch, epochs=num_epochs, verbose=1, \n",
    "            callbacks=callbacks_list, validation_data=val_generator, \n",
    "            validation_steps=validation_steps, class_weight=None, workers=1, initial_epoch=0)"
   ]
  },
  {
   "cell_type": "code",
   "execution_count": null,
   "metadata": {
    "colab": {
     "base_uri": "https://localhost:8080/",
     "height": 295
    },
    "id": "2zWqdYrfYjtU",
    "outputId": "9522412a-96ee-4516-84a8-a57a34892b8a"
   },
   "outputs": [
    {
     "data": {
      "image/png": "[encoded data removed]",
      "text/plain": [
       "<Figure size 1080x288 with 2 Axes>"
      ]
     },
     "metadata": {},
     "output_type": "display_data"
    },
    {
     "name": "stdout",
     "output_type": "stream",
     "text": [
      "Max. Training Accuracy 0.9144384860992432\n",
      "Max. Validaiton Accuracy 0.75\n"
     ]
    }
   ],
   "source": [
    "plotHistory(model1_history)"
   ]
  },
  {
   "cell_type": "markdown",
   "metadata": {
    "id": "2T4YEgjueeaN"
   },
   "source": [
    "**Model 2**: With Frames-30, Epoc-30"
   ]
  },
  {
   "cell_type": "code",
   "execution_count": null,
   "metadata": {
    "colab": {
     "base_uri": "https://localhost:8080/"
    },
    "id": "rkCT1o-VeZ8F",
    "outputId": "830707e8-aca1-4119-841b-6664e56d3194"
   },
   "outputs": [
    {
     "name": "stdout",
     "output_type": "stream",
     "text": [
      "Model: \"conv_3d2\"\n",
      "_________________________________________________________________\n",
      "Layer (type)                 Output Shape              Param #   \n",
      "=================================================================\n",
      "conv3d_3 (Conv3D)            (None, 26, 96, 96, 16)    6016      \n",
      "_________________________________________________________________\n",
      "max_pooling3d_3 (MaxPooling3 (None, 13, 48, 48, 16)    0         \n",
      "_________________________________________________________________\n",
      "batch_normalization_5 (Batch (None, 13, 48, 48, 16)    64        \n",
      "_________________________________________________________________\n",
      "conv3d_4 (Conv3D)            (None, 11, 46, 46, 32)    13856     \n",
      "_________________________________________________________________\n",
      "max_pooling3d_4 (MaxPooling3 (None, 11, 23, 23, 32)    0         \n",
      "_________________________________________________________________\n",
      "batch_normalization_6 (Batch (None, 11, 23, 23, 32)    128       \n",
      "_________________________________________________________________\n",
      "conv3d_5 (Conv3D)            (None, 9, 21, 21, 64)     55360     \n",
      "_________________________________________________________________\n",
      "max_pooling3d_5 (MaxPooling3 (None, 9, 11, 11, 64)     0         \n",
      "_________________________________________________________________\n",
      "batch_normalization_7 (Batch (None, 9, 11, 11, 64)     256       \n",
      "_________________________________________________________________\n",
      "flatten_1 (Flatten)          (None, 69696)             0         \n",
      "_________________________________________________________________\n",
      "dense_3 (Dense)              (None, 128)               8921216   \n",
      "_________________________________________________________________\n",
      "batch_normalization_8 (Batch (None, 128)               512       \n",
      "_________________________________________________________________\n",
      "dropout_2 (Dropout)          (None, 128)               0         \n",
      "_________________________________________________________________\n",
      "dense_4 (Dense)              (None, 64)                8256      \n",
      "_________________________________________________________________\n",
      "batch_normalization_9 (Batch (None, 64)                256       \n",
      "_________________________________________________________________\n",
      "dropout_3 (Dropout)          (None, 64)                0         \n",
      "_________________________________________________________________\n",
      "dense_5 (Dense)              (None, 5)                 325       \n",
      "=================================================================\n",
      "Total params: 9,006,245\n",
      "Trainable params: 9,005,637\n",
      "Non-trainable params: 608\n",
      "_________________________________________________________________\n",
      "None\n",
      "Source path =  /content/drive/MyDrive/Project_data.zip (Unzipped Files)/Project_data/train ; batch size = 64\n",
      "Printing currently X, Y and Z: 30 100 100\n"
     ]
    },
    {
     "name": "stderr",
     "output_type": "stream",
     "text": [
      "/usr/local/lib/python3.7/dist-packages/keras/engine/training.py:1972: UserWarning: `Model.fit_generator` is deprecated and will be removed in a future version. Please use `Model.fit`, which supports generators.\n",
      "  warnings.warn('`Model.fit_generator` is deprecated and '\n"
     ]
    },
    {
     "name": "stdout",
     "output_type": "stream",
     "text": [
      "Epoch 1/30\n",
      "11/11 [==============================] - ETA: 0s - loss: 1.5231 - categorical_accuracy: 0.4434  Source path =  /content/drive/MyDrive/Project_data.zip (Unzipped Files)/Project_data/val ; batch size = 64\n",
      "Printing currently X, Y and Z: 30 100 100\n",
      "11/11 [==============================] - 3609s 357s/step - loss: 1.5231 - categorical_accuracy: 0.4434 - val_loss: 11.3647 - val_categorical_accuracy: 0.2100\n",
      "\n",
      "Epoch 00001: saving model to model_init_2021-09-2218_53_09.112458/model-00001-1.52311-0.44344-11.36473-0.21000.h5\n",
      "Epoch 2/30\n",
      "11/11 [==============================] - 276s 28s/step - loss: 0.8883 - categorical_accuracy: 0.6482 - val_loss: 8.2589 - val_categorical_accuracy: 0.2500\n",
      "\n",
      "Epoch 00002: saving model to model_init_2021-09-2218_53_09.112458/model-00002-0.88828-0.64822-8.25886-0.25000.h5\n",
      "Epoch 3/30\n",
      "11/11 [==============================] - 236s 23s/step - loss: 0.9671 - categorical_accuracy: 0.6443 - val_loss: 9.7609 - val_categorical_accuracy: 0.1786\n",
      "\n",
      "Epoch 00003: saving model to model_init_2021-09-2218_53_09.112458/model-00003-0.96708-0.64427-9.76088-0.17857.h5\n",
      "Epoch 4/30\n",
      "11/11 [==============================] - 161s 16s/step - loss: 0.7545 - categorical_accuracy: 0.7296 - val_loss: 3.5907 - val_categorical_accuracy: 0.2812\n",
      "\n",
      "Epoch 00004: saving model to model_init_2021-09-2218_53_09.112458/model-00004-0.75449-0.72961-3.59072-0.28125.h5\n",
      "Epoch 5/30\n",
      "11/11 [==============================] - 137s 14s/step - loss: 0.7034 - categorical_accuracy: 0.7464 - val_loss: 3.7567 - val_categorical_accuracy: 0.2188\n",
      "\n",
      "Epoch 00005: saving model to model_init_2021-09-2218_53_09.112458/model-00005-0.70337-0.74641-3.75667-0.21875.h5\n",
      "Epoch 6/30\n",
      "11/11 [==============================] - 107s 11s/step - loss: 0.7394 - categorical_accuracy: 0.7273 - val_loss: 2.5925 - val_categorical_accuracy: 0.2500\n",
      "\n",
      "Epoch 00006: saving model to model_init_2021-09-2218_53_09.112458/model-00006-0.73944-0.72727-2.59247-0.25000.h5\n",
      "Epoch 7/30\n",
      "11/11 [==============================] - 109s 10s/step - loss: 0.7201 - categorical_accuracy: 0.7389 - val_loss: 6.2967 - val_categorical_accuracy: 0.1250\n",
      "\n",
      "Epoch 00007: saving model to model_init_2021-09-2218_53_09.112458/model-00007-0.72009-0.73892-6.29669-0.12500.h5\n",
      "Epoch 8/30\n",
      "11/11 [==============================] - 98s 10s/step - loss: 0.6205 - categorical_accuracy: 0.7968 - val_loss: 4.6204 - val_categorical_accuracy: 0.2500\n",
      "\n",
      "Epoch 00008: saving model to model_init_2021-09-2218_53_09.112458/model-00008-0.62049-0.79679-4.62038-0.25000.h5\n",
      "Epoch 9/30\n",
      "11/11 [==============================] - 96s 10s/step - loss: 0.4931 - categorical_accuracy: 0.8556 - val_loss: 3.5011 - val_categorical_accuracy: 0.2500\n",
      "\n",
      "Epoch 00009: saving model to model_init_2021-09-2218_53_09.112458/model-00009-0.49310-0.85561-3.50110-0.25000.h5\n",
      "Epoch 10/30\n",
      "11/11 [==============================] - 91s 9s/step - loss: 0.6007 - categorical_accuracy: 0.7540 - val_loss: 3.1787 - val_categorical_accuracy: 0.3750\n",
      "\n",
      "Epoch 00010: saving model to model_init_2021-09-2218_53_09.112458/model-00010-0.60065-0.75401-3.17870-0.37500.h5\n",
      "\n",
      "Epoch 00010: ReduceLROnPlateau reducing learning rate to 0.00020000000949949026.\n",
      "Epoch 11/30\n",
      "11/11 [==============================] - 91s 9s/step - loss: 0.4879 - categorical_accuracy: 0.8182 - val_loss: 1.1651 - val_categorical_accuracy: 0.3750\n",
      "\n",
      "Epoch 00011: saving model to model_init_2021-09-2218_53_09.112458/model-00011-0.48787-0.81818-1.16509-0.37500.h5\n",
      "Epoch 12/30\n",
      "11/11 [==============================] - 95s 9s/step - loss: 0.4188 - categorical_accuracy: 0.8503 - val_loss: 1.6992 - val_categorical_accuracy: 0.5000\n",
      "\n",
      "Epoch 00012: saving model to model_init_2021-09-2218_53_09.112458/model-00012-0.41881-0.85027-1.69918-0.50000.h5\n",
      "Epoch 13/30\n",
      "11/11 [==============================] - 90s 9s/step - loss: 0.4543 - categorical_accuracy: 0.8182 - val_loss: 1.3747 - val_categorical_accuracy: 0.5000\n",
      "\n",
      "Epoch 00013: saving model to model_init_2021-09-2218_53_09.112458/model-00013-0.45435-0.81818-1.37473-0.50000.h5\n",
      "Epoch 14/30\n",
      "11/11 [==============================] - 97s 9s/step - loss: 0.4130 - categorical_accuracy: 0.8342 - val_loss: 1.9412 - val_categorical_accuracy: 0.5000\n",
      "\n",
      "Epoch 00014: saving model to model_init_2021-09-2218_53_09.112458/model-00014-0.41298-0.83422-1.94121-0.50000.h5\n",
      "Epoch 15/30\n",
      "11/11 [==============================] - 99s 10s/step - loss: 0.3329 - categorical_accuracy: 0.8877 - val_loss: 1.5934 - val_categorical_accuracy: 0.3750\n",
      "\n",
      "Epoch 00015: saving model to model_init_2021-09-2218_53_09.112458/model-00015-0.33292-0.88770-1.59337-0.37500.h5\n",
      "\n",
      "Epoch 00015: ReduceLROnPlateau reducing learning rate to 4.0000001899898055e-05.\n",
      "Epoch 16/30\n",
      "11/11 [==============================] - 93s 9s/step - loss: 0.3046 - categorical_accuracy: 0.8877 - val_loss: 1.5789 - val_categorical_accuracy: 0.5000\n",
      "\n",
      "Epoch 00016: saving model to model_init_2021-09-2218_53_09.112458/model-00016-0.30460-0.88770-1.57889-0.50000.h5\n",
      "Epoch 17/30\n",
      "11/11 [==============================] - 91s 9s/step - loss: 0.3902 - categorical_accuracy: 0.8556 - val_loss: 1.4319 - val_categorical_accuracy: 0.6250\n",
      "\n",
      "Epoch 00017: saving model to model_init_2021-09-2218_53_09.112458/model-00017-0.39015-0.85561-1.43190-0.62500.h5\n",
      "Epoch 18/30\n",
      "11/11 [==============================] - 99s 10s/step - loss: 0.2591 - categorical_accuracy: 0.9091 - val_loss: 1.0473 - val_categorical_accuracy: 0.5000\n",
      "\n",
      "Epoch 00018: saving model to model_init_2021-09-2218_53_09.112458/model-00018-0.25908-0.90909-1.04729-0.50000.h5\n",
      "Epoch 19/30\n",
      "11/11 [==============================] - 93s 9s/step - loss: 0.3152 - categorical_accuracy: 0.8877 - val_loss: 1.2092 - val_categorical_accuracy: 0.5000\n",
      "\n",
      "Epoch 00019: saving model to model_init_2021-09-2218_53_09.112458/model-00019-0.31518-0.88770-1.20915-0.50000.h5\n",
      "Epoch 20/30\n",
      "11/11 [==============================] - 96s 9s/step - loss: 0.2375 - categorical_accuracy: 0.9412 - val_loss: 1.0377 - val_categorical_accuracy: 0.7500\n",
      "\n",
      "Epoch 00020: saving model to model_init_2021-09-2218_53_09.112458/model-00020-0.23747-0.94118-1.03766-0.75000.h5\n",
      "Epoch 21/30\n",
      "11/11 [==============================] - 91s 9s/step - loss: 0.3422 - categorical_accuracy: 0.8717 - val_loss: 1.4391 - val_categorical_accuracy: 0.3750\n",
      "\n",
      "Epoch 00021: saving model to model_init_2021-09-2218_53_09.112458/model-00021-0.34223-0.87166-1.43908-0.37500.h5\n",
      "Epoch 22/30\n",
      "11/11 [==============================] - 89s 9s/step - loss: 0.2599 - categorical_accuracy: 0.9144 - val_loss: 1.0736 - val_categorical_accuracy: 0.3750\n",
      "\n",
      "Epoch 00022: saving model to model_init_2021-09-2218_53_09.112458/model-00022-0.25993-0.91444-1.07361-0.37500.h5\n",
      "Epoch 23/30\n",
      "11/11 [==============================] - 94s 9s/step - loss: 0.2268 - categorical_accuracy: 0.9626 - val_loss: 1.5043 - val_categorical_accuracy: 0.6250\n",
      "\n",
      "Epoch 00023: saving model to model_init_2021-09-2218_53_09.112458/model-00023-0.22678-0.96257-1.50425-0.62500.h5\n",
      "Epoch 24/30\n",
      "11/11 [==============================] - 97s 9s/step - loss: 0.3856 - categorical_accuracy: 0.9037 - val_loss: 0.7369 - val_categorical_accuracy: 0.6250\n",
      "\n",
      "Epoch 00024: saving model to model_init_2021-09-2218_53_09.112458/model-00024-0.38558-0.90374-0.73694-0.62500.h5\n",
      "Epoch 25/30\n",
      "11/11 [==============================] - 95s 9s/step - loss: 0.3515 - categorical_accuracy: 0.8877 - val_loss: 1.1805 - val_categorical_accuracy: 0.5000\n",
      "\n",
      "Epoch 00025: saving model to model_init_2021-09-2218_53_09.112458/model-00025-0.35151-0.88770-1.18046-0.50000.h5\n",
      "Epoch 26/30\n",
      "11/11 [==============================] - 94s 9s/step - loss: 0.2356 - categorical_accuracy: 0.9412 - val_loss: 0.7068 - val_categorical_accuracy: 0.8750\n",
      "\n",
      "Epoch 00026: saving model to model_init_2021-09-2218_53_09.112458/model-00026-0.23559-0.94118-0.70680-0.87500.h5\n",
      "Epoch 27/30\n",
      "11/11 [==============================] - 95s 9s/step - loss: 0.2270 - categorical_accuracy: 0.9358 - val_loss: 1.1611 - val_categorical_accuracy: 0.5000\n",
      "\n",
      "Epoch 00027: saving model to model_init_2021-09-2218_53_09.112458/model-00027-0.22705-0.93583-1.16112-0.50000.h5\n",
      "Epoch 28/30\n",
      "11/11 [==============================] - 92s 9s/step - loss: 0.3218 - categorical_accuracy: 0.8930 - val_loss: 0.9602 - val_categorical_accuracy: 0.5000\n",
      "\n",
      "Epoch 00028: saving model to model_init_2021-09-2218_53_09.112458/model-00028-0.32176-0.89305-0.96024-0.50000.h5\n",
      "Epoch 29/30\n",
      "11/11 [==============================] - 94s 9s/step - loss: 0.2116 - categorical_accuracy: 0.9465 - val_loss: 0.7489 - val_categorical_accuracy: 0.7500\n",
      "\n",
      "Epoch 00029: saving model to model_init_2021-09-2218_53_09.112458/model-00029-0.21159-0.94652-0.74886-0.75000.h5\n",
      "Epoch 30/30\n",
      "11/11 [==============================] - 92s 9s/step - loss: 0.3155 - categorical_accuracy: 0.8824 - val_loss: 0.8207 - val_categorical_accuracy: 0.8750\n",
      "\n",
      "Epoch 00030: saving model to model_init_2021-09-2218_53_09.112458/model-00030-0.31552-0.88235-0.82070-0.87500.h5\n",
      "\n",
      "Epoch 00030: ReduceLROnPlateau reducing learning rate to 8.000000525498762e-06.\n"
     ]
    }
   ],
   "source": [
    "n_frames = 30\n",
    "num_epochs = 30\n",
    "batch_size = 64\n",
    "\n",
    "img_tensor = getImgTensor(n_frames)\n",
    "train_generator = generator(train_path, train_doc, batch_size)\n",
    "val_generator = generator(val_path, val_doc, batch_size)\n",
    "\n",
    "if (num_train_sequences%batch_size) == 0:\n",
    "    steps_per_epoch = int(num_train_sequences/batch_size)\n",
    "else:\n",
    "    steps_per_epoch = (num_train_sequences//batch_size) + 1\n",
    "\n",
    "if (num_val_sequences%batch_size) == 0:\n",
    "    validation_steps = int(num_val_sequences/batch_size)\n",
    "else:\n",
    "    validation_steps = (num_val_sequences//batch_size) + 1\n",
    "    \n",
    "inputShape = (len(img_tensor[0]), img_tensor[1], img_tensor[2], img_tensor[3])\n",
    "\n",
    "model2 = Sequential([\n",
    "    Conv3D(16, make3dFilter(5), activation='relu', input_shape=inputShape),\n",
    "    MaxPooling3D(make3dFilter(2), padding='same'),\n",
    "    BatchNormalization(),\n",
    "\n",
    "    Conv3D(32, make3dFilter(3), activation='relu'),\n",
    "    MaxPooling3D(pool_size=(1,2,2), padding='same'),\n",
    "    BatchNormalization(),\n",
    "\n",
    "    Conv3D(64, make3dFilter(3), activation='relu'),\n",
    "    MaxPooling3D(pool_size=(1,2,2), padding='same'),\n",
    "    BatchNormalization(),\n",
    "\n",
    "    Flatten(),\n",
    "    Dense(128, activation='relu'),\n",
    "    BatchNormalization(),\n",
    "    Dropout(0.25),\n",
    "\n",
    "    Dense(64, activation='relu'),\n",
    "    BatchNormalization(),\n",
    "    Dropout(0.25),\n",
    "\n",
    "    Dense(5, activation='softmax')\n",
    "], name=\"conv_3d2\")\n",
    "model2.compile(optimizer='adam', loss='categorical_crossentropy', metrics=['categorical_accuracy'])\n",
    "print(model2.summary())\n",
    "\n",
    "model2_history = model2.fit_generator(train_generator, steps_per_epoch=steps_per_epoch, epochs=num_epochs, verbose=1, \n",
    "            callbacks=callbacks_list, validation_data=val_generator, \n",
    "            validation_steps=validation_steps, class_weight=None, workers=1, initial_epoch=0)"
   ]
  },
  {
   "cell_type": "code",
   "execution_count": null,
   "metadata": {
    "colab": {
     "base_uri": "https://localhost:8080/",
     "height": 316
    },
    "id": "XdV4qxfzeaFf",
    "outputId": "cf0dd43e-274d-4076-a905-21a32cc5b569"
   },
   "outputs": [
    {
     "data": {
      "image/png": "[encoded data removed]",
      "text/plain": [
       "<Figure size 1080x288 with 2 Axes>"
      ]
     },
     "metadata": {},
     "output_type": "display_data"
    },
    {
     "name": "stdout",
     "output_type": "stream",
     "text": [
      "Max. Training Accuracy 0.9625668525695801\n",
      "Max. Validaiton Accuracy 0.875\n"
     ]
    }
   ],
   "source": [
    "plotHistory(model2_history)"
   ]
  },
  {
   "cell_type": "markdown",
   "metadata": {
    "id": "_cN5_fD0s3qR"
   },
   "source": [
    "**Model 3**: Frames:20, Epocs:20, Batch Size:64, reduced kernel to (2,2,2), switching BatchNormalization before MaxPooling."
   ]
  },
  {
   "cell_type": "code",
   "execution_count": null,
   "metadata": {
    "colab": {
     "base_uri": "https://localhost:8080/"
    },
    "id": "kcu7RzK6eaOX",
    "outputId": "0055e37e-0eb1-466d-c6f6-71ad628b59da"
   },
   "outputs": [
    {
     "metadata": {
      "tags": null
     },
     "name": "stdout",
     "output_type": "stream",
     "text": [
      "Model: \"conv_3d5\"\n",
      "_________________________________________________________________\n",
      "Layer (type)                 Output Shape              Param #   \n",
      "=================================================================\n",
      "conv3d_3 (Conv3D)            (None, 20, 100, 100, 16)  400       \n",
      "_________________________________________________________________\n",
      "batch_normalization_5 (Batch (None, 20, 100, 100, 16)  64        \n",
      "_________________________________________________________________\n",
      "max_pooling3d_3 (MaxPooling3 (None, 10, 50, 50, 16)    0         \n",
      "_________________________________________________________________\n",
      "conv3d_4 (Conv3D)            (None, 10, 50, 50, 32)    4128      \n",
      "_________________________________________________________________\n",
      "batch_normalization_6 (Batch (None, 10, 50, 50, 32)    128       \n",
      "_________________________________________________________________\n",
      "max_pooling3d_4 (MaxPooling3 (None, 5, 25, 25, 32)     0         \n",
      "_________________________________________________________________\n",
      "conv3d_5 (Conv3D)            (None, 5, 25, 25, 64)     16448     \n",
      "_________________________________________________________________\n",
      "batch_normalization_7 (Batch (None, 5, 25, 25, 64)     256       \n",
      "_________________________________________________________________\n",
      "max_pooling3d_5 (MaxPooling3 (None, 2, 12, 12, 64)     0         \n",
      "_________________________________________________________________\n",
      "conv3d_6 (Conv3D)            (None, 2, 12, 12, 128)    65664     \n",
      "_________________________________________________________________\n",
      "batch_normalization_8 (Batch (None, 2, 12, 12, 128)    512       \n",
      "_________________________________________________________________\n",
      "max_pooling3d_6 (MaxPooling3 (None, 1, 6, 6, 128)      0         \n",
      "_________________________________________________________________\n",
      "flatten_1 (Flatten)          (None, 4608)              0         \n",
      "_________________________________________________________________\n",
      "dense_3 (Dense)              (None, 256)               1179904   \n",
      "_________________________________________________________________\n",
      "dense_4 (Dense)              (None, 128)               32896     \n",
      "_________________________________________________________________\n",
      "dense_5 (Dense)              (None, 5)                 645       \n",
      "=================================================================\n",
      "Total params: 1,301,045\n",
      "Trainable params: 1,300,565\n",
      "Non-trainable params: 480\n",
      "_________________________________________________________________\n",
      "None\n",
      "Source path =  /content/drive/MyDrive/Project_data.zip (Unzipped Files)/Project_data/train ; batch size = 64\n",
      "Printing currently X, Y and Z: 20 100 100\n"
     ]
    },
    {
     "metadata": {
      "tags": null
     },
     "name": "stderr",
     "output_type": "stream",
     "text": [
      "/usr/local/lib/python3.7/dist-packages/keras/engine/training.py:1972: UserWarning: `Model.fit_generator` is deprecated and will be removed in a future version. Please use `Model.fit`, which supports generators.\n",
      "  warnings.warn('`Model.fit_generator` is deprecated and '\n"
     ]
    },
    {
     "metadata": {
      "tags": null
     },
     "name": "stdout",
     "output_type": "stream",
     "text": [
      "Epoch 1/20\n",
      "11/11 [==============================] - ETA: 0s - loss: 4.9957 - categorical_accuracy: 0.2971  Source path =  /content/drive/MyDrive/Project_data.zip (Unzipped Files)/Project_data/val ; batch size = 64\n",
      "Printing currently X, Y and Z: 20 100 100\n",
      "11/11 [==============================] - 2962s 293s/step - loss: 4.9957 - categorical_accuracy: 0.2971 - val_loss: 1.5519 - val_categorical_accuracy: 0.4000\n",
      "\n",
      "Epoch 00001: saving model to model_init_2021-09-2405_38_28.416345/model-00001-4.99574-0.29713-1.55195-0.40000.h5\n",
      "Epoch 2/20\n",
      "11/11 [==============================] - 182s 18s/step - loss: 1.1335 - categorical_accuracy: 0.5415 - val_loss: 2.6331 - val_categorical_accuracy: 0.1719\n",
      "\n",
      "Epoch 00002: saving model to model_init_2021-09-2405_38_28.416345/model-00002-1.13354-0.54150-2.63311-0.17188.h5\n",
      "Epoch 3/20\n",
      "11/11 [==============================] - 173s 17s/step - loss: 0.8957 - categorical_accuracy: 0.6798 - val_loss: 6.1376 - val_categorical_accuracy: 0.1071\n",
      "\n",
      "Epoch 00003: saving model to model_init_2021-09-2405_38_28.416345/model-00003-0.89569-0.67984-6.13757-0.10714.h5\n",
      "Epoch 4/20\n",
      "11/11 [==============================] - 102s 10s/step - loss: 0.6006 - categorical_accuracy: 0.7897 - val_loss: 9.5824 - val_categorical_accuracy: 0.0938\n",
      "\n",
      "Epoch 00004: saving model to model_init_2021-09-2405_38_28.416345/model-00004-0.60059-0.78970-9.58238-0.09375.h5\n",
      "Epoch 5/20\n",
      "11/11 [==============================] - 85s 8s/step - loss: 0.4675 - categorical_accuracy: 0.8230 - val_loss: 10.5170 - val_categorical_accuracy: 0.1875\n",
      "\n",
      "Epoch 00005: saving model to model_init_2021-09-2405_38_28.416345/model-00005-0.46750-0.82297-10.51700-0.18750.h5\n",
      "\n",
      "Epoch 00005: ReduceLROnPlateau reducing learning rate to 0.00020000000949949026.\n",
      "Epoch 6/20\n",
      "11/11 [==============================] - 65s 7s/step - loss: 0.4168 - categorical_accuracy: 0.8278 - val_loss: 13.5965 - val_categorical_accuracy: 0.1250\n",
      "\n",
      "Epoch 00006: saving model to model_init_2021-09-2405_38_28.416345/model-00006-0.41680-0.82775-13.59655-0.12500.h5\n",
      "Epoch 7/20\n",
      "11/11 [==============================] - 66s 6s/step - loss: 0.3555 - categorical_accuracy: 0.8719 - val_loss: 13.9301 - val_categorical_accuracy: 0.1250\n",
      "\n",
      "Epoch 00007: saving model to model_init_2021-09-2405_38_28.416345/model-00007-0.35551-0.87192-13.93007-0.12500.h5\n",
      "Epoch 8/20\n",
      "11/11 [==============================] - 61s 6s/step - loss: 0.2712 - categorical_accuracy: 0.9144 - val_loss: 10.6503 - val_categorical_accuracy: 0.3750\n",
      "\n",
      "Epoch 00008: saving model to model_init_2021-09-2405_38_28.416345/model-00008-0.27125-0.91444-10.65031-0.37500.h5\n",
      "Epoch 9/20\n",
      "11/11 [==============================] - 61s 6s/step - loss: 0.2777 - categorical_accuracy: 0.9144 - val_loss: 13.9498 - val_categorical_accuracy: 0.2500\n",
      "\n",
      "Epoch 00009: saving model to model_init_2021-09-2405_38_28.416345/model-00009-0.27770-0.91444-13.94976-0.25000.h5\n",
      "\n",
      "Epoch 00009: ReduceLROnPlateau reducing learning rate to 4.0000001899898055e-05.\n",
      "Epoch 10/20\n",
      "11/11 [==============================] - 61s 6s/step - loss: 0.2101 - categorical_accuracy: 0.9305 - val_loss: 22.5285 - val_categorical_accuracy: 0.0000e+00\n",
      "\n",
      "Epoch 00010: saving model to model_init_2021-09-2405_38_28.416345/model-00010-0.21006-0.93048-22.52852-0.00000.h5\n",
      "Epoch 11/20\n",
      "11/11 [==============================] - 64s 6s/step - loss: 0.1883 - categorical_accuracy: 0.9679 - val_loss: 14.4590 - val_categorical_accuracy: 0.2500\n",
      "\n",
      "Epoch 00011: saving model to model_init_2021-09-2405_38_28.416345/model-00011-0.18829-0.96791-14.45896-0.25000.h5\n",
      "Epoch 12/20\n",
      "11/11 [==============================] - 58s 6s/step - loss: 0.2237 - categorical_accuracy: 0.9519 - val_loss: 17.9673 - val_categorical_accuracy: 0.1250\n",
      "\n",
      "Epoch 00012: saving model to model_init_2021-09-2405_38_28.416345/model-00012-0.22366-0.95187-17.96732-0.12500.h5\n",
      "Epoch 13/20\n",
      "11/11 [==============================] - 61s 6s/step - loss: 0.1735 - categorical_accuracy: 0.9519 - val_loss: 13.9234 - val_categorical_accuracy: 0.1250\n",
      "\n",
      "Epoch 00013: saving model to model_init_2021-09-2405_38_28.416345/model-00013-0.17349-0.95187-13.92340-0.12500.h5\n",
      "\n",
      "Epoch 00013: ReduceLROnPlateau reducing learning rate to 8.000000525498762e-06.\n",
      "Epoch 14/20\n",
      "11/11 [==============================] - 61s 6s/step - loss: 0.1824 - categorical_accuracy: 0.9733 - val_loss: 19.2832 - val_categorical_accuracy: 0.1250\n",
      "\n",
      "Epoch 00014: saving model to model_init_2021-09-2405_38_28.416345/model-00014-0.18244-0.97326-19.28322-0.12500.h5\n",
      "Epoch 15/20\n",
      "11/11 [==============================] - 59s 6s/step - loss: 0.1849 - categorical_accuracy: 0.9412 - val_loss: 15.1188 - val_categorical_accuracy: 0.1250\n",
      "\n",
      "Epoch 00015: saving model to model_init_2021-09-2405_38_28.416345/model-00015-0.18488-0.94118-15.11880-0.12500.h5\n",
      "Epoch 16/20\n",
      "11/11 [==============================] - 62s 6s/step - loss: 0.2255 - categorical_accuracy: 0.9305 - val_loss: 12.9553 - val_categorical_accuracy: 0.3750\n",
      "\n",
      "Epoch 00016: saving model to model_init_2021-09-2405_38_28.416345/model-00016-0.22550-0.93048-12.95534-0.37500.h5\n",
      "Epoch 17/20\n",
      "11/11 [==============================] - 60s 6s/step - loss: 0.2018 - categorical_accuracy: 0.9412 - val_loss: 17.0819 - val_categorical_accuracy: 0.2500\n",
      "\n",
      "Epoch 00017: saving model to model_init_2021-09-2405_38_28.416345/model-00017-0.20177-0.94118-17.08190-0.25000.h5\n",
      "\n",
      "Epoch 00017: ReduceLROnPlateau reducing learning rate to 1.6000001778593287e-06.\n",
      "Epoch 18/20\n",
      "11/11 [==============================] - 63s 6s/step - loss: 0.1628 - categorical_accuracy: 0.9465 - val_loss: 16.8138 - val_categorical_accuracy: 0.1250\n",
      "\n",
      "Epoch 00018: saving model to model_init_2021-09-2405_38_28.416345/model-00018-0.16279-0.94652-16.81375-0.12500.h5\n",
      "Epoch 19/20\n",
      "11/11 [==============================] - 57s 6s/step - loss: 0.2122 - categorical_accuracy: 0.9412 - val_loss: 19.3146 - val_categorical_accuracy: 0.1250\n",
      "\n",
      "Epoch 00019: saving model to model_init_2021-09-2405_38_28.416345/model-00019-0.21225-0.94118-19.31459-0.12500.h5\n",
      "Epoch 20/20\n",
      "11/11 [==============================] - 60s 6s/step - loss: 0.1924 - categorical_accuracy: 0.9465 - val_loss: 18.5540 - val_categorical_accuracy: 0.2500\n",
      "\n",
      "Epoch 00020: saving model to model_init_2021-09-2405_38_28.416345/model-00020-0.19244-0.94652-18.55402-0.25000.h5\n"
     ]
    }
   ],
   "source": [
    "n_frames = 20\n",
    "num_epochs = 20\n",
    "batch_size = 64\n",
    "\n",
    "img_tensor = getImgTensor(n_frames)\n",
    "train_generator = generator(train_path, train_doc, batch_size)\n",
    "val_generator = generator(val_path, val_doc, batch_size)\n",
    "\n",
    "if (num_train_sequences%batch_size) == 0:\n",
    "    steps_per_epoch = int(num_train_sequences/batch_size)\n",
    "else:\n",
    "    steps_per_epoch = (num_train_sequences//batch_size) + 1\n",
    "\n",
    "if (num_val_sequences%batch_size) == 0:\n",
    "    validation_steps = int(num_val_sequences/batch_size)\n",
    "else:\n",
    "    validation_steps = (num_val_sequences//batch_size) + 1\n",
    "    \n",
    "inputShape = (len(img_tensor[0]), img_tensor[1], img_tensor[2], img_tensor[3])\n",
    "\n",
    "model3 = Sequential([\n",
    "    Conv3D(16, make3dFilter(2), padding='same', activation='relu', input_shape=inputShape),\n",
    "    BatchNormalization(),\n",
    "    MaxPooling3D(make3dFilter(2)),\n",
    "\n",
    "    Conv3D(32, make3dFilter(2), padding='same', activation='relu'),\n",
    "    BatchNormalization(),\n",
    "    MaxPooling3D(pool_size=(2)),\n",
    "\n",
    "    Conv3D(64, make3dFilter(2), padding='same', activation='relu'),\n",
    "    BatchNormalization(),\n",
    "    MaxPooling3D(pool_size=(2)),\n",
    "\n",
    "    Conv3D(128, make3dFilter(2), padding='same', activation='relu'),\n",
    "    BatchNormalization(),\n",
    "    MaxPooling3D(pool_size=(2)),\n",
    "\n",
    "    Flatten(),\n",
    "    Dense(256, activation='relu'),\n",
    "    BatchNormalization(),\n",
    "    Dropout(0.3),\n",
    "\n",
    "    Dense(128, activation='relu'),\n",
    "    BatchNormalization(),\n",
    "    Dropout(0.2),\n",
    "\n",
    "    Dense(5, activation='softmax')\n",
    "], name=\"conv_3d3\")\n",
    "model3.compile(optimizer='adam', loss='categorical_crossentropy', metrics=['categorical_accuracy'])\n",
    "print(model3.summary())\n",
    "\n",
    "model3_history = model3.fit_generator(train_generator, steps_per_epoch=steps_per_epoch, epochs=num_epochs, verbose=1, \n",
    "            callbacks=callbacks_list, validation_data=val_generator, \n",
    "            validation_steps=validation_steps, class_weight=None, workers=1, initial_epoch=0)"
   ]
  },
  {
   "cell_type": "code",
   "execution_count": null,
   "metadata": {
    "colab": {
     "base_uri": "https://localhost:8080/",
     "height": 316
    },
    "id": "Sj5UoIOltoKK",
    "outputId": "6d6df7d2-5fdf-46a8-ae5c-2c46553238df"
   },
   "outputs": [
    {
     "data": {
      "image/png": "[encoded data removed]",
      "text/plain": [
       "<Figure size 1080x288 with 2 Axes>"
      ]
     },
     "metadata": {
      "needs_background": "light"
     },
     "output_type": "display_data"
    },
    {
     "name": "stdout",
     "output_type": "stream",
     "text": [
      "Max. Training Accuracy 0.9732620120048523\n",
      "Max. Validaiton Accuracy 0.4000000059604645\n"
     ]
    }
   ],
   "source": [
    "plotHistory(model3_history)"
   ]
  },
  {
   "cell_type": "markdown",
   "metadata": {
    "id": "5mZeVFgouGT6"
   },
   "source": [
    "Model 4: Now with second Model architecture: Conv2D+GRU"
   ]
  },
  {
   "cell_type": "code",
   "execution_count": null,
   "metadata": {
    "colab": {
     "base_uri": "https://localhost:8080/"
    },
    "id": "XAvj-yi1uGr6",
    "outputId": "57a2a21d-6065-4ff7-9e9d-18a5605a54b9"
   },
   "outputs": [
    {
     "metadata": {
      "tags": null
     },
     "name": "stdout",
     "output_type": "stream",
     "text": [
      "Model: \"sequential_1\"\n",
      "_________________________________________________________________\n",
      "Layer (type)                 Output Shape              Param #   \n",
      "=================================================================\n",
      "time_distributed (TimeDistri (None, 20, 100, 100, 16)  448       \n",
      "_________________________________________________________________\n",
      "time_distributed_1 (TimeDist (None, 20, 100, 100, 16)  64        \n",
      "_________________________________________________________________\n",
      "time_distributed_2 (TimeDist (None, 20, 50, 50, 16)    0         \n",
      "_________________________________________________________________\n",
      "time_distributed_3 (TimeDist (None, 20, 50, 50, 32)    4640      \n",
      "_________________________________________________________________\n",
      "time_distributed_4 (TimeDist (None, 20, 50, 50, 32)    128       \n",
      "_________________________________________________________________\n",
      "time_distributed_5 (TimeDist (None, 20, 25, 25, 32)    0         \n",
      "_________________________________________________________________\n",
      "time_distributed_6 (TimeDist (None, 20, 25, 25, 64)    18496     \n",
      "_________________________________________________________________\n",
      "time_distributed_7 (TimeDist (None, 20, 25, 25, 64)    256       \n",
      "_________________________________________________________________\n",
      "time_distributed_8 (TimeDist (None, 20, 12, 12, 64)    0         \n",
      "_________________________________________________________________\n",
      "time_distributed_9 (TimeDist (None, 20, 12, 12, 128)   73856     \n",
      "_________________________________________________________________\n",
      "time_distributed_10 (TimeDis (None, 20, 12, 12, 128)   512       \n",
      "_________________________________________________________________\n",
      "time_distributed_11 (TimeDis (None, 20, 6, 6, 128)     0         \n",
      "_________________________________________________________________\n",
      "time_distributed_12 (TimeDis (None, 20, 6, 6, 256)     295168    \n",
      "_________________________________________________________________\n",
      "time_distributed_13 (TimeDis (None, 20, 6, 6, 256)     1024      \n",
      "_________________________________________________________________\n",
      "time_distributed_14 (TimeDis (None, 20, 3, 3, 256)     0         \n",
      "_________________________________________________________________\n",
      "time_distributed_15 (TimeDis (None, 20, 2304)          0         \n",
      "_________________________________________________________________\n",
      "gru (GRU)                    (None, 256)               1967616   \n",
      "_________________________________________________________________\n",
      "dropout_2 (Dropout)          (None, 256)               0         \n",
      "_________________________________________________________________\n",
      "dense_3 (Dense)              (None, 256)               65792     \n",
      "_________________________________________________________________\n",
      "dropout_3 (Dropout)          (None, 256)               0         \n",
      "_________________________________________________________________\n",
      "dense_4 (Dense)              (None, 5)                 1285      \n",
      "=================================================================\n",
      "Total params: 2,429,285\n",
      "Trainable params: 2,428,293\n",
      "Non-trainable params: 992\n",
      "_________________________________________________________________\n",
      "None\n",
      "Source path =  /content/drive/MyDrive/Project_data.zip (Unzipped Files)/Project_data/train ; batch size = 32\n",
      "Printing currently X, Y and Z: 20 100 100\n"
     ]
    },
    {
     "metadata": {
      "tags": null
     },
     "name": "stderr",
     "output_type": "stream",
     "text": [
      "/usr/local/lib/python3.7/dist-packages/keras/engine/training.py:1972: UserWarning: `Model.fit_generator` is deprecated and will be removed in a future version. Please use `Model.fit`, which supports generators.\n",
      "  warnings.warn('`Model.fit_generator` is deprecated and '\n"
     ]
    },
    {
     "name": "stdout",
     "output_type": "stream",
     "text": [
      "Epoch 1/30\n",
      "21/21 [==============================] - ETA: 0s - loss: 1.4048 - categorical_accuracy: 0.4510  Source path =  /content/drive/MyDrive/Project_data.zip (Unzipped Files)/Project_data/val ; batch size = 32\n",
      "Printing currently X, Y and Z: 20 100 100\n",
      "21/21 [==============================] - 9054s 451s/step - loss: 1.4048 - categorical_accuracy: 0.4510 - val_loss: 1.5544 - val_categorical_accuracy: 0.2800\n",
      "\n",
      "Epoch 00001: saving model to model_init_2021-09-2504_49_46.805747/model-00001-1.40482-0.45098-1.55436-0.28000.h5\n",
      "Epoch 2/30\n",
      "21/21 [==============================] - 355s 18s/step - loss: 0.8304 - categorical_accuracy: 0.6812 - val_loss: 2.5640 - val_categorical_accuracy: 0.1875\n",
      "\n",
      "Epoch 00002: saving model to model_init_2021-09-2504_49_46.805747/model-00002-0.83036-0.68116-2.56403-0.18750.h5\n",
      "Epoch 3/30\n",
      "21/21 [==============================] - 181s 9s/step - loss: 0.7619 - categorical_accuracy: 0.7119 - val_loss: 2.5711 - val_categorical_accuracy: 0.1875\n",
      "\n",
      "Epoch 00003: saving model to model_init_2021-09-2504_49_46.805747/model-00003-0.76188-0.71194-2.57115-0.18750.h5\n",
      "Epoch 4/30\n",
      "21/21 [==============================] - 128s 6s/step - loss: 0.7387 - categorical_accuracy: 0.7318 - val_loss: 3.5071 - val_categorical_accuracy: 0.1875\n",
      "\n",
      "Epoch 00004: saving model to model_init_2021-09-2504_49_46.805747/model-00004-0.73871-0.73183-3.50713-0.18750.h5\n",
      "Epoch 5/30\n",
      "21/21 [==============================] - 149s 7s/step - loss: 0.5638 - categorical_accuracy: 0.7843 - val_loss: 2.8898 - val_categorical_accuracy: 0.1250\n",
      "\n",
      "Epoch 00005: saving model to model_init_2021-09-2504_49_46.805747/model-00005-0.56380-0.78431-2.88980-0.12500.h5\n",
      "\n",
      "Epoch 00005: ReduceLROnPlateau reducing learning rate to 0.00020000000949949026.\n",
      "Epoch 6/30\n",
      "21/21 [==============================] - 112s 6s/step - loss: 0.4684 - categorical_accuracy: 0.8207 - val_loss: 3.1872 - val_categorical_accuracy: 0.0625\n",
      "\n",
      "Epoch 00006: saving model to model_init_2021-09-2504_49_46.805747/model-00006-0.46836-0.82073-3.18723-0.06250.h5\n",
      "Epoch 7/30\n",
      "21/21 [==============================] - 115s 6s/step - loss: 0.3384 - categorical_accuracy: 0.8683 - val_loss: 2.9733 - val_categorical_accuracy: 0.0625\n",
      "\n",
      "Epoch 00007: saving model to model_init_2021-09-2504_49_46.805747/model-00007-0.33841-0.86835-2.97333-0.06250.h5\n",
      "Epoch 8/30\n",
      "21/21 [==============================] - 109s 5s/step - loss: 0.2921 - categorical_accuracy: 0.9048 - val_loss: 3.3750 - val_categorical_accuracy: 0.1250\n",
      "\n",
      "Epoch 00008: saving model to model_init_2021-09-2504_49_46.805747/model-00008-0.29206-0.90476-3.37499-0.12500.h5\n",
      "Epoch 9/30\n",
      "21/21 [==============================] - 117s 6s/step - loss: 0.2136 - categorical_accuracy: 0.9300 - val_loss: 3.0682 - val_categorical_accuracy: 0.1875\n",
      "\n",
      "Epoch 00009: saving model to model_init_2021-09-2504_49_46.805747/model-00009-0.21357-0.92997-3.06818-0.18750.h5\n",
      "\n",
      "Epoch 00009: ReduceLROnPlateau reducing learning rate to 4.0000001899898055e-05.\n",
      "Epoch 10/30\n",
      "21/21 [==============================] - 111s 6s/step - loss: 0.1565 - categorical_accuracy: 0.9468 - val_loss: 2.8002 - val_categorical_accuracy: 0.1875\n",
      "\n",
      "Epoch 00010: saving model to model_init_2021-09-2504_49_46.805747/model-00010-0.15649-0.94678-2.80024-0.18750.h5\n",
      "Epoch 11/30\n",
      "21/21 [==============================] - 110s 5s/step - loss: 0.1351 - categorical_accuracy: 0.9608 - val_loss: 3.5117 - val_categorical_accuracy: 0.1875\n",
      "\n",
      "Epoch 00011: saving model to model_init_2021-09-2504_49_46.805747/model-00011-0.13513-0.96078-3.51171-0.18750.h5\n",
      "Epoch 12/30\n",
      "21/21 [==============================] - 109s 5s/step - loss: 0.1475 - categorical_accuracy: 0.9580 - val_loss: 3.4943 - val_categorical_accuracy: 0.2500\n",
      "\n",
      "Epoch 00012: saving model to model_init_2021-09-2504_49_46.805747/model-00012-0.14755-0.95798-3.49432-0.25000.h5\n",
      "Epoch 13/30\n",
      "21/21 [==============================] - 111s 6s/step - loss: 0.1099 - categorical_accuracy: 0.9748 - val_loss: 4.3204 - val_categorical_accuracy: 0.1250\n",
      "\n",
      "Epoch 00013: saving model to model_init_2021-09-2504_49_46.805747/model-00013-0.10992-0.97479-4.32041-0.12500.h5\n",
      "\n",
      "Epoch 00013: ReduceLROnPlateau reducing learning rate to 8.000000525498762e-06.\n",
      "Epoch 14/30\n",
      "21/21 [==============================] - 116s 6s/step - loss: 0.1362 - categorical_accuracy: 0.9580 - val_loss: 2.0213 - val_categorical_accuracy: 0.4375\n",
      "\n",
      "Epoch 00014: saving model to model_init_2021-09-2504_49_46.805747/model-00014-0.13617-0.95798-2.02130-0.43750.h5\n",
      "Epoch 15/30\n",
      "21/21 [==============================] - 108s 5s/step - loss: 0.1052 - categorical_accuracy: 0.9832 - val_loss: 2.6676 - val_categorical_accuracy: 0.3750\n",
      "\n",
      "Epoch 00015: saving model to model_init_2021-09-2504_49_46.805747/model-00015-0.10522-0.98319-2.66756-0.37500.h5\n",
      "Epoch 16/30\n",
      "21/21 [==============================] - 115s 6s/step - loss: 0.1172 - categorical_accuracy: 0.9720 - val_loss: 1.9608 - val_categorical_accuracy: 0.5000\n",
      "\n",
      "Epoch 00016: saving model to model_init_2021-09-2504_49_46.805747/model-00016-0.11722-0.97199-1.96078-0.50000.h5\n",
      "Epoch 17/30\n",
      "21/21 [==============================] - 109s 5s/step - loss: 0.1143 - categorical_accuracy: 0.9776 - val_loss: 2.9321 - val_categorical_accuracy: 0.3125\n",
      "\n",
      "Epoch 00017: saving model to model_init_2021-09-2504_49_46.805747/model-00017-0.11431-0.97759-2.93210-0.31250.h5\n",
      "\n",
      "Epoch 00017: ReduceLROnPlateau reducing learning rate to 1.6000001778593287e-06.\n",
      "Epoch 18/30\n",
      "21/21 [==============================] - 110s 5s/step - loss: 0.1304 - categorical_accuracy: 0.9692 - val_loss: 2.4013 - val_categorical_accuracy: 0.5625\n",
      "\n",
      "Epoch 00018: saving model to model_init_2021-09-2504_49_46.805747/model-00018-0.13037-0.96919-2.40134-0.56250.h5\n",
      "Epoch 19/30\n",
      "21/21 [==============================] - 109s 5s/step - loss: 0.1076 - categorical_accuracy: 0.9832 - val_loss: 2.7232 - val_categorical_accuracy: 0.4375\n",
      "\n",
      "Epoch 00019: saving model to model_init_2021-09-2504_49_46.805747/model-00019-0.10764-0.98319-2.72317-0.43750.h5\n",
      "Epoch 20/30\n",
      "21/21 [==============================] - 113s 6s/step - loss: 0.1137 - categorical_accuracy: 0.9720 - val_loss: 1.9259 - val_categorical_accuracy: 0.5000\n",
      "\n",
      "Epoch 00020: saving model to model_init_2021-09-2504_49_46.805747/model-00020-0.11374-0.97199-1.92587-0.50000.h5\n",
      "Epoch 21/30\n",
      "21/21 [==============================] - 110s 5s/step - loss: 0.0981 - categorical_accuracy: 0.9748 - val_loss: 0.9097 - val_categorical_accuracy: 0.6250\n",
      "\n",
      "Epoch 00021: saving model to model_init_2021-09-2504_49_46.805747/model-00021-0.09814-0.97479-0.90972-0.62500.h5\n",
      "Epoch 22/30\n",
      "21/21 [==============================] - 111s 6s/step - loss: 0.1165 - categorical_accuracy: 0.9692 - val_loss: 1.6780 - val_categorical_accuracy: 0.5000\n",
      "\n",
      "Epoch 00022: saving model to model_init_2021-09-2504_49_46.805747/model-00022-0.11654-0.96919-1.67801-0.50000.h5\n",
      "Epoch 23/30\n",
      "21/21 [==============================] - 113s 6s/step - loss: 0.1341 - categorical_accuracy: 0.9692 - val_loss: 1.2172 - val_categorical_accuracy: 0.6875\n",
      "\n",
      "Epoch 00023: saving model to model_init_2021-09-2504_49_46.805747/model-00023-0.13411-0.96919-1.21721-0.68750.h5\n",
      "Epoch 24/30\n",
      "21/21 [==============================] - 116s 6s/step - loss: 0.0867 - categorical_accuracy: 0.9916 - val_loss: 1.6145 - val_categorical_accuracy: 0.3750\n",
      "\n",
      "Epoch 00024: saving model to model_init_2021-09-2504_49_46.805747/model-00024-0.08669-0.99160-1.61447-0.37500.h5\n",
      "Epoch 25/30\n",
      "21/21 [==============================] - 113s 6s/step - loss: 0.1193 - categorical_accuracy: 0.9720 - val_loss: 1.2427 - val_categorical_accuracy: 0.6250\n",
      "\n",
      "Epoch 00025: saving model to model_init_2021-09-2504_49_46.805747/model-00025-0.11930-0.97199-1.24268-0.62500.h5\n",
      "\n",
      "Epoch 00025: ReduceLROnPlateau reducing learning rate to 3.200000264769187e-07.\n",
      "Epoch 26/30\n",
      "21/21 [==============================] - 118s 6s/step - loss: 0.1132 - categorical_accuracy: 0.9720 - val_loss: 0.9877 - val_categorical_accuracy: 0.6875\n",
      "\n",
      "Epoch 00026: saving model to model_init_2021-09-2504_49_46.805747/model-00026-0.11320-0.97199-0.98774-0.68750.h5\n",
      "Epoch 27/30\n",
      "21/21 [==============================] - 112s 6s/step - loss: 0.0999 - categorical_accuracy: 0.9804 - val_loss: 0.8040 - val_categorical_accuracy: 0.6250\n",
      "\n",
      "Epoch 00027: saving model to model_init_2021-09-2504_49_46.805747/model-00027-0.09987-0.98039-0.80396-0.62500.h5\n",
      "Epoch 28/30\n",
      "21/21 [==============================] - 116s 6s/step - loss: 0.1254 - categorical_accuracy: 0.9720 - val_loss: 1.1505 - val_categorical_accuracy: 0.6250\n",
      "\n",
      "Epoch 00028: saving model to model_init_2021-09-2504_49_46.805747/model-00028-0.12536-0.97199-1.15055-0.62500.h5\n",
      "Epoch 29/30\n",
      "21/21 [==============================] - 112s 6s/step - loss: 0.1207 - categorical_accuracy: 0.9692 - val_loss: 0.1367 - val_categorical_accuracy: 0.9375\n",
      "\n",
      "Epoch 00029: saving model to model_init_2021-09-2504_49_46.805747/model-00029-0.12070-0.96919-0.13673-0.93750.h5\n",
      "Epoch 30/30\n",
      "21/21 [==============================] - 119s 6s/step - loss: 0.1104 - categorical_accuracy: 0.9720 - val_loss: 0.3106 - val_categorical_accuracy: 0.8750\n",
      "\n",
      "Epoch 00030: saving model to model_init_2021-09-2504_49_46.805747/model-00030-0.11041-0.97199-0.31060-0.87500.h5\n"
     ]
    }
   ],
   "source": [
    "n_frames = 20\n",
    "num_epochs = 30\n",
    "batch_size = 32\n",
    "\n",
    "img_tensor = getImgTensor(n_frames)\n",
    "train_generator = generator(train_path, train_doc, batch_size)\n",
    "val_generator = generator(val_path, val_doc, batch_size)\n",
    "\n",
    "if (num_train_sequences%batch_size) == 0:\n",
    "    steps_per_epoch = int(num_train_sequences/batch_size)\n",
    "else:\n",
    "    steps_per_epoch = (num_train_sequences//batch_size) + 1\n",
    "\n",
    "if (num_val_sequences%batch_size) == 0:\n",
    "    validation_steps = int(num_val_sequences/batch_size)\n",
    "else:\n",
    "    validation_steps = (num_val_sequences//batch_size) + 1\n",
    "    \n",
    "inputShape = (len(img_tensor[0]), img_tensor[1], img_tensor[2], img_tensor[3])\n",
    "\n",
    "model4 = Sequential()\n",
    "model4.add(TimeDistributed(Conv2D(16, make2dFilter(3), padding='same', activation='relu'), input_shape=inputShape))\n",
    "model4.add(TimeDistributed(BatchNormalization()))\n",
    "model4.add(TimeDistributed(MaxPooling2D(make2dFilter(2))))\n",
    "model4.add(TimeDistributed(Conv2D(32, make2dFilter(3), padding='same', activation='relu')))\n",
    "model4.add(TimeDistributed(BatchNormalization()))\n",
    "model4.add(TimeDistributed(MaxPooling2D(make2dFilter(2))))\n",
    "model4.add(TimeDistributed(Conv2D(64, make2dFilter(3), padding='same', activation='relu')))\n",
    "model4.add(TimeDistributed(BatchNormalization()))\n",
    "model4.add(TimeDistributed(MaxPooling2D(make2dFilter(2))))\n",
    "model4.add(TimeDistributed(Conv2D(128, make2dFilter(3), padding='same', activation='relu')))\n",
    "model4.add(TimeDistributed(BatchNormalization()))\n",
    "model4.add(TimeDistributed(MaxPooling2D(make2dFilter(2))))\n",
    "model4.add(TimeDistributed(Conv2D(256, make2dFilter(3), padding='same', activation='relu')))\n",
    "model4.add(TimeDistributed(BatchNormalization()))\n",
    "model4.add(TimeDistributed(MaxPooling2D(make2dFilter(2))))\n",
    "model4.add(TimeDistributed(Flatten()))\n",
    "model4.add(GRU(256))\n",
    "model4.add(Dropout(0.2))\n",
    "model4.add(Dense(256, activation='relu'))\n",
    "model4.add(Dropout(0.2))\n",
    "model4.add(Dense(5, activation='softmax'))\n",
    "name=\"conv_2d_GRU\"\n",
    "model4.compile(optimizer='adam', loss='categorical_crossentropy', metrics=['categorical_accuracy'])\n",
    "print(model4.summary())\n",
    "\n",
    "model4_history = model4.fit_generator(train_generator, steps_per_epoch=steps_per_epoch, epochs=num_epochs, verbose=1, \n",
    "            callbacks=callbacks_list, validation_data=val_generator, \n",
    "            validation_steps=validation_steps, class_weight=None, workers=1, initial_epoch=0)"
   ]
  },
  {
   "cell_type": "code",
   "execution_count": null,
   "metadata": {
    "id": "sPkDLpcFq5UV"
   },
   "outputs": [],
   "source": [
    "plotHistory(model4_history)"
   ]
  },
  {
   "cell_type": "markdown",
   "metadata": {
    "id": "iUR6MNHX2I8u"
   },
   "source": [
    "Observation:\n",
    "\n",
    "Max. Training Accuracy 0.9327731132507324\n",
    "\n",
    "Max. Validaiton Accuracy 0.6875"
   ]
  },
  {
   "cell_type": "markdown",
   "metadata": {
    "id": "if0-oirw2cnF"
   },
   "source": [
    "Model 5: Transfer Learning using MobileNet along with LSTM"
   ]
  },
  {
   "cell_type": "code",
   "execution_count": null,
   "metadata": {
    "id": "v71K93cd2T3w"
   },
   "outputs": [],
   "source": [
    "  from tensorflow.keras.applications import mobilenet"
   ]
  },
  {
   "cell_type": "code",
   "execution_count": null,
   "metadata": {
    "colab": {
     "base_uri": "https://localhost:8080/"
    },
    "id": "m1SDI2pv2rmv",
    "outputId": "d8f73237-43fc-4116-c248-fbdf0c1bc378"
   },
   "outputs": [
    {
     "metadata": {
      "tags": null
     },
     "name": "stdout",
     "output_type": "stream",
     "text": [
      "WARNING:tensorflow:`input_shape` is undefined or non-square, or `rows` is not in [128, 160, 192, 224]. Weights for input shape (224, 224) will be loaded as the default.\n",
      "Downloading data from https://storage.googleapis.com/tensorflow/keras-applications/mobilenet/mobilenet_1_0_224_tf_no_top.h5\n",
      "17227776/17225924 [==============================] - 0s 0us/step\n",
      "17235968/17225924 [==============================] - 0s 0us/step\n",
      "Model: \"mobilenet_lstm\"\n",
      "_________________________________________________________________\n",
      "Layer (type)                 Output Shape              Param #   \n",
      "=================================================================\n",
      "time_distributed (TimeDistri (None, 20, 3, 3, 1024)    3228864   \n",
      "_________________________________________________________________\n",
      "time_distributed_1 (TimeDist (None, 20, 3, 3, 1024)    4096      \n",
      "_________________________________________________________________\n",
      "time_distributed_2 (TimeDist (None, 20, 1, 1, 1024)    0         \n",
      "_________________________________________________________________\n",
      "time_distributed_3 (TimeDist (None, 20, 1024)          0         \n",
      "_________________________________________________________________\n",
      "lstm (LSTM)                  (None, 256)               1311744   \n",
      "_________________________________________________________________\n",
      "dropout_2 (Dropout)          (None, 256)               0         \n",
      "_________________________________________________________________\n",
      "dense_3 (Dense)              (None, 256)               65792     \n",
      "_________________________________________________________________\n",
      "dropout_3 (Dropout)          (None, 256)               0         \n",
      "_________________________________________________________________\n",
      "dense_4 (Dense)              (None, 5)                 1285      \n",
      "=================================================================\n",
      "Total params: 4,611,781\n",
      "Trainable params: 4,587,845\n",
      "Non-trainable params: 23,936\n",
      "_________________________________________________________________\n",
      "None\n",
      "Source path =  /content/drive/MyDrive/Project_data.zip (Unzipped Files)/Project_data/train ; batch size = 20\n",
      "Printing currently X, Y and Z: 20 100 100\n"
     ]
    },
    {
     "metadata": {
      "tags": null
     },
     "name": "stderr",
     "output_type": "stream",
     "text": [
      "/usr/local/lib/python3.7/dist-packages/keras/engine/training.py:1972: UserWarning: `Model.fit_generator` is deprecated and will be removed in a future version. Please use `Model.fit`, which supports generators.\n",
      "  warnings.warn('`Model.fit_generator` is deprecated and '\n"
     ]
    },
    {
     "name": "stdout",
     "output_type": "stream",
     "text": [
      "Epoch 1/20\n",
      "34/34 [==============================] - ETA: 0s - loss: 0.8697 - categorical_accuracy: 0.6440  Source path =  /content/drive/MyDrive/Project_data.zip (Unzipped Files)/Project_data/val ; batch size = 20\n",
      "Printing currently X, Y and Z: 20 100 100\n",
      "34/34 [==============================] - 3633s 109s/step - loss: 0.8697 - categorical_accuracy: 0.6440 - val_loss: 0.6100 - val_categorical_accuracy: 0.8100\n",
      "\n",
      "Epoch 00001: saving model to model_init_2021-09-2805_05_34.517409/model-00001-0.86965-0.64404-0.61001-0.81000.h5\n",
      "Epoch 2/20\n",
      "34/34 [==============================] - 71s 2s/step - loss: 0.5556 - categorical_accuracy: 0.8039 - val_loss: 1.4313 - val_categorical_accuracy: 0.5000\n",
      "\n",
      "Epoch 00002: saving model to model_init_2021-09-2805_05_34.517409/model-00002-0.55563-0.80392-1.43134-0.50000.h5\n",
      "Epoch 3/20\n",
      "34/34 [==============================] - 75s 2s/step - loss: 0.8612 - categorical_accuracy: 0.6667 - val_loss: 1.1826 - val_categorical_accuracy: 0.6300\n",
      "\n",
      "Epoch 00003: saving model to model_init_2021-09-2805_05_34.517409/model-00003-0.86119-0.66667-1.18260-0.63000.h5\n",
      "Epoch 4/20\n",
      "34/34 [==============================] - 78s 2s/step - loss: 1.1891 - categorical_accuracy: 0.5784 - val_loss: 0.9770 - val_categorical_accuracy: 0.6600\n",
      "\n",
      "Epoch 00004: saving model to model_init_2021-09-2805_05_34.517409/model-00004-1.18909-0.57843-0.97700-0.66000.h5\n",
      "Epoch 5/20\n",
      "34/34 [==============================] - 76s 2s/step - loss: 0.8352 - categorical_accuracy: 0.6569 - val_loss: 1.1053 - val_categorical_accuracy: 0.6400\n",
      "\n",
      "Epoch 00005: saving model to model_init_2021-09-2805_05_34.517409/model-00005-0.83522-0.65686-1.10527-0.64000.h5\n",
      "\n",
      "Epoch 00005: ReduceLROnPlateau reducing learning rate to 0.00020000000949949026.\n",
      "Epoch 6/20\n",
      "34/34 [==============================] - 77s 2s/step - loss: 0.9852 - categorical_accuracy: 0.6373 - val_loss: 0.4660 - val_categorical_accuracy: 0.9000\n",
      "\n",
      "Epoch 00006: saving model to model_init_2021-09-2805_05_34.517409/model-00006-0.98516-0.63725-0.46600-0.90000.h5\n",
      "Epoch 7/20\n",
      "34/34 [==============================] - 76s 2s/step - loss: 0.7471 - categorical_accuracy: 0.7647 - val_loss: 0.3063 - val_categorical_accuracy: 0.9400\n",
      "\n",
      "Epoch 00007: saving model to model_init_2021-09-2805_05_34.517409/model-00007-0.74706-0.76471-0.30634-0.94000.h5\n",
      "Epoch 8/20\n",
      "34/34 [==============================] - 71s 2s/step - loss: 0.4944 - categorical_accuracy: 0.8333 - val_loss: 0.2904 - val_categorical_accuracy: 0.9200\n",
      "\n",
      "Epoch 00008: saving model to model_init_2021-09-2805_05_34.517409/model-00008-0.49436-0.83333-0.29042-0.92000.h5\n",
      "Epoch 9/20\n",
      "34/34 [==============================] - 72s 2s/step - loss: 0.3473 - categorical_accuracy: 0.9020 - val_loss: 0.2529 - val_categorical_accuracy: 0.9300\n",
      "\n",
      "Epoch 00009: saving model to model_init_2021-09-2805_05_34.517409/model-00009-0.34731-0.90196-0.25290-0.93000.h5\n",
      "Epoch 10/20\n",
      "34/34 [==============================] - 76s 2s/step - loss: 0.4910 - categorical_accuracy: 0.8333 - val_loss: 0.1922 - val_categorical_accuracy: 0.9600\n",
      "\n",
      "Epoch 00010: saving model to model_init_2021-09-2805_05_34.517409/model-00010-0.49099-0.83333-0.19225-0.96000.h5\n",
      "Epoch 11/20\n",
      "34/34 [==============================] - 71s 2s/step - loss: 0.3921 - categorical_accuracy: 0.8529 - val_loss: 0.2654 - val_categorical_accuracy: 0.9300\n",
      "\n",
      "Epoch 00011: saving model to model_init_2021-09-2805_05_34.517409/model-00011-0.39205-0.85294-0.26542-0.93000.h5\n",
      "Epoch 12/20\n",
      "34/34 [==============================] - 77s 2s/step - loss: 0.2820 - categorical_accuracy: 0.9216 - val_loss: 0.1768 - val_categorical_accuracy: 0.9400\n",
      "\n",
      "Epoch 00012: saving model to model_init_2021-09-2805_05_34.517409/model-00012-0.28198-0.92157-0.17675-0.94000.h5\n",
      "Epoch 13/20\n",
      "34/34 [==============================] - 73s 2s/step - loss: 0.2501 - categorical_accuracy: 0.9216 - val_loss: 0.2885 - val_categorical_accuracy: 0.9300\n",
      "\n",
      "Epoch 00013: saving model to model_init_2021-09-2805_05_34.517409/model-00013-0.25014-0.92157-0.28851-0.93000.h5\n",
      "Epoch 14/20\n",
      "34/34 [==============================] - 75s 2s/step - loss: 0.2109 - categorical_accuracy: 0.9314 - val_loss: 0.2049 - val_categorical_accuracy: 0.9400\n",
      "\n",
      "Epoch 00014: saving model to model_init_2021-09-2805_05_34.517409/model-00014-0.21087-0.93137-0.20492-0.94000.h5\n",
      "Epoch 15/20\n",
      "34/34 [==============================] - 72s 2s/step - loss: 0.1885 - categorical_accuracy: 0.9412 - val_loss: 0.2856 - val_categorical_accuracy: 0.9200\n",
      "\n",
      "Epoch 00015: saving model to model_init_2021-09-2805_05_34.517409/model-00015-0.18852-0.94118-0.28555-0.92000.h5\n",
      "Epoch 16/20\n",
      "34/34 [==============================] - 74s 2s/step - loss: 0.1528 - categorical_accuracy: 0.9314 - val_loss: 0.2711 - val_categorical_accuracy: 0.9200\n",
      "\n",
      "Epoch 00016: saving model to model_init_2021-09-2805_05_34.517409/model-00016-0.15275-0.93137-0.27111-0.92000.h5\n",
      "\n",
      "Epoch 00016: ReduceLROnPlateau reducing learning rate to 4.0000001899898055e-05.\n",
      "Epoch 17/20\n",
      "34/34 [==============================] - 73s 2s/step - loss: 0.2126 - categorical_accuracy: 0.9118 - val_loss: 0.3927 - val_categorical_accuracy: 0.8900\n",
      "\n",
      "Epoch 00017: saving model to model_init_2021-09-2805_05_34.517409/model-00017-0.21256-0.91176-0.39272-0.89000.h5\n",
      "Epoch 18/20\n",
      "34/34 [==============================] - 76s 2s/step - loss: 0.2070 - categorical_accuracy: 0.9412 - val_loss: 0.1178 - val_categorical_accuracy: 0.9600\n",
      "\n",
      "Epoch 00018: saving model to model_init_2021-09-2805_05_34.517409/model-00018-0.20702-0.94118-0.11781-0.96000.h5\n",
      "Epoch 19/20\n",
      "34/34 [==============================] - 75s 2s/step - loss: 0.1169 - categorical_accuracy: 0.9706 - val_loss: 0.3047 - val_categorical_accuracy: 0.9000\n",
      "\n",
      "Epoch 00019: saving model to model_init_2021-09-2805_05_34.517409/model-00019-0.11689-0.97059-0.30471-0.90000.h5\n",
      "Epoch 20/20\n",
      "34/34 [==============================] - 73s 2s/step - loss: 0.2542 - categorical_accuracy: 0.9314 - val_loss: 0.2561 - val_categorical_accuracy: 0.9300\n",
      "\n",
      "Epoch 00020: saving model to model_init_2021-09-2805_05_34.517409/model-00020-0.25424-0.93137-0.25612-0.93000.h5\n"
     ]
    }
   ],
   "source": [
    "mobilenet = mobilenet.MobileNet(weights='imagenet', include_top=False)\n",
    "\n",
    "n_frames = 20\n",
    "num_epochs = 20\n",
    "batch_size = 64\n",
    "\n",
    "img_tensor = getImgTensor(n_frames)\n",
    "train_generator = generator(train_path, train_doc, batch_size)\n",
    "val_generator = generator(val_path, val_doc, batch_size)\n",
    "\n",
    "if (num_train_sequences%batch_size) == 0:\n",
    "    steps_per_epoch = int(num_train_sequences/batch_size)\n",
    "else:\n",
    "    steps_per_epoch = (num_train_sequences//batch_size) + 1\n",
    "\n",
    "if (num_val_sequences%batch_size) == 0:\n",
    "    validation_steps = int(num_val_sequences/batch_size)\n",
    "else:\n",
    "    validation_steps = (num_val_sequences//batch_size) + 1\n",
    "    \n",
    "inputShape = (len(img_tensor[0]), img_tensor[1], img_tensor[2], img_tensor[3])\n",
    "\n",
    "model5 = Sequential([\n",
    "    TimeDistributed(mobilenet, input_shape=inputShape)\n",
    "], name=\"mobilenet_lstm\")\n",
    "\n",
    "#for layer in model5.layers:\n",
    "#    layer.trainable = False\n",
    "\n",
    "model5.add(TimeDistributed(BatchNormalization()))\n",
    "model5.add(TimeDistributed(MaxPooling2D(make2dFilter(2))))\n",
    "model5.add(TimeDistributed(Flatten()))\n",
    "\n",
    "model5.add(LSTM(256))\n",
    "model5.add(Dropout(0.2))\n",
    "\n",
    "model5.add(Dense(256,activation='relu'))\n",
    "model5.add(Dropout(0.2))\n",
    "\n",
    "model5.add(Dense(5, activation='softmax'))\n",
    "\n",
    "model5.compile(optimizer='adam', loss='categorical_crossentropy', metrics=['categorical_accuracy'])\n",
    "print(model5.summary())\n",
    "\n",
    "model5_history = model5.fit_generator(train_generator, steps_per_epoch=steps_per_epoch, epochs=num_epochs, verbose=1, \n",
    "            callbacks=callbacks_list, validation_data=val_generator, \n",
    "            validation_steps=validation_steps, class_weight=None, workers=1, initial_epoch=0)"
   ]
  },
  {
   "cell_type": "code",
   "execution_count": null,
   "metadata": {
    "colab": {
     "base_uri": "https://localhost:8080/",
     "height": 297
    },
    "id": "5IcMojxf3PUD",
    "outputId": "902e0544-a32b-4e7e-a21c-0af9927059e0"
   },
   "outputs": [
    {
     "data": {
      "image/png": "[encoded data removed]",
      "text/plain": [
       "<Figure size 1080x288 with 2 Axes>"
      ]
     },
     "metadata": {
      "needs_background": "light"
     },
     "output_type": "display_data"
    },
    {
     "name": "stdout",
     "output_type": "stream",
     "text": [
      "Max. Training Accuracy 0.970588207244873\n",
      "Max. Validaiton Accuracy 0.9599999785423279\n"
     ]
    }
   ],
   "source": [
    "plotHistory(model5_history)"
   ]
  },
  {
   "cell_type": "code",
   "execution_count": null,
   "metadata": {
    "id": "EyXgWnepK_by"
   },
   "outputs": [],
   "source": [
    "import time\n",
    "from keras.models import load_model\n",
    "model = load_model('/content/model_init_2021-09-2805_05_34.517409/model-00020-0.25424-0.93137-0.25612-0.93000.h5')"
   ]
  },
  {
   "cell_type": "code",
   "execution_count": null,
   "metadata": {
    "colab": {
     "base_uri": "https://localhost:8080/"
    },
    "id": "iKRZ-3TmIlJB",
    "outputId": "100e2a0b-9cc7-41a1-ff74-ef1c25746486"
   },
   "outputs": [
    {
     "name": "stdout",
     "output_type": "stream",
     "text": [
      "Model: \"mobilenet_lstm\"\n",
      "_________________________________________________________________\n",
      "Layer (type)                 Output Shape              Param #   \n",
      "=================================================================\n",
      "time_distributed (TimeDistri (None, 20, 3, 3, 1024)    3228864   \n",
      "_________________________________________________________________\n",
      "time_distributed_1 (TimeDist (None, 20, 3, 3, 1024)    4096      \n",
      "_________________________________________________________________\n",
      "time_distributed_2 (TimeDist (None, 20, 1, 1, 1024)    0         \n",
      "_________________________________________________________________\n",
      "time_distributed_3 (TimeDist (None, 20, 1024)          0         \n",
      "_________________________________________________________________\n",
      "lstm (LSTM)                  (None, 256)               1311744   \n",
      "_________________________________________________________________\n",
      "dropout_2 (Dropout)          (None, 256)               0         \n",
      "_________________________________________________________________\n",
      "dense_3 (Dense)              (None, 256)               65792     \n",
      "_________________________________________________________________\n",
      "dropout_3 (Dropout)          (None, 256)               0         \n",
      "_________________________________________________________________\n",
      "dense_4 (Dense)              (None, 5)                 1285      \n",
      "=================================================================\n",
      "Total params: 4,611,781\n",
      "Trainable params: 4,587,845\n",
      "Non-trainable params: 23,936\n",
      "_________________________________________________________________\n"
     ]
    }
   ],
   "source": [
    "model.summary()\n"
   ]
  },
  {
   "cell_type": "code",
   "execution_count": null,
   "metadata": {
    "id": "D4NLjcoxJxBB"
   },
   "outputs": [],
   "source": [
    "#type(val_generator)"
   ]
  },
  {
   "cell_type": "code",
   "execution_count": null,
   "metadata": {
    "id": "fxiA94DELRl_"
   },
   "outputs": [],
   "source": [
    "loss,acc = model.evaluate(val_generator)\n",
    "print(\"loss= acc=\" ,loss,acc)"
   ]
  },
  {
   "cell_type": "code",
   "execution_count": null,
   "metadata": {
    "id": "lwasXeX0YdYJ"
   },
   "outputs": [],
   "source": [
    "loss,acc = model.evaluate(val_generator)\n",
    "print(\"loss= acc=\" ,loss,acc)"
   ]
  },
  {
   "cell_type": "markdown",
   "metadata": {
    "id": "nOpZDeHxHkpd"
   },
   "source": [
    "**Optional Architectures tried:**\n",
    "Model 6: Transfer Learning using MobileNet, this time train all weights along with GRU."
   ]
  },
  {
   "cell_type": "code",
   "execution_count": null,
   "metadata": {
    "colab": {
     "base_uri": "https://localhost:8080/",
     "height": 1000
    },
    "id": "fi8rfV0MYv7f",
    "outputId": "7733bf94-d3fc-4842-eaf3-108b0fc1c468"
   },
   "outputs": [
    {
     "name": "stdout",
     "output_type": "stream",
     "text": [
      "WARNING:tensorflow:`input_shape` is undefined or non-square, or `rows` is not in [128, 160, 192, 224]. Weights for input shape (224, 224) will be loaded as the default.\n",
      "Model: \"mobilenet_lstm\"\n",
      "_________________________________________________________________\n",
      "Layer (type)                 Output Shape              Param #   \n",
      "=================================================================\n",
      "time_distributed_4 (TimeDist (None, 20, 3, 3, 1024)    3228864   \n",
      "_________________________________________________________________\n",
      "time_distributed_5 (TimeDist (None, 20, 3, 3, 1024)    4096      \n",
      "_________________________________________________________________\n",
      "time_distributed_6 (TimeDist (None, 20, 1, 1, 1024)    0         \n",
      "_________________________________________________________________\n",
      "time_distributed_7 (TimeDist (None, 20, 1024)          0         \n",
      "_________________________________________________________________\n",
      "gru (GRU)                    (None, 256)               984576    \n",
      "_________________________________________________________________\n",
      "dropout_4 (Dropout)          (None, 256)               0         \n",
      "_________________________________________________________________\n",
      "dense_5 (Dense)              (None, 256)               65792     \n",
      "_________________________________________________________________\n",
      "dropout_5 (Dropout)          (None, 256)               0         \n",
      "_________________________________________________________________\n",
      "dense_6 (Dense)              (None, 5)                 1285      \n",
      "=================================================================\n",
      "Total params: 4,284,613\n",
      "Trainable params: 4,260,677\n",
      "Non-trainable params: 23,936\n",
      "_________________________________________________________________\n",
      "None\n",
      "Source path =  /content/drive/MyDrive/Project_data.zip (Unzipped Files)/Project_data/train ; batch size = 64\n",
      "Printing currently X, Y and Z: 20 100 100\n"
     ]
    },
    {
     "name": "stderr",
     "output_type": "stream",
     "text": [
      "/usr/local/lib/python3.7/dist-packages/keras/engine/training.py:1972: UserWarning: `Model.fit_generator` is deprecated and will be removed in a future version. Please use `Model.fit`, which supports generators.\n",
      "  warnings.warn('`Model.fit_generator` is deprecated and '\n"
     ]
    },
    {
     "name": "stdout",
     "output_type": "stream",
     "text": [
      "Epoch 1/20\n"
     ]
    },
    {
     "ename": "ResourceExhaustedError",
     "evalue": "ignored",
     "output_type": "error",
     "traceback": [
      "\u001b[0;31m---------------------------------------------------------------------------\u001b[0m",
      "\u001b[0;31mResourceExhaustedError\u001b[0m                    Traceback (most recent call last)",
      "\u001b[0;32m<ipython-input-34-cabde60b32e0>\u001b[0m in \u001b[0;36m<module>\u001b[0;34m()\u001b[0m\n\u001b[1;32m     46\u001b[0m model5_history = model5.fit_generator(train_generator, steps_per_epoch=steps_per_epoch, epochs=num_epochs, verbose=1, \n\u001b[1;32m     47\u001b[0m             \u001b[0mcallbacks\u001b[0m\u001b[0;34m=\u001b[0m\u001b[0mcallbacks_list\u001b[0m\u001b[0;34m,\u001b[0m \u001b[0mvalidation_data\u001b[0m\u001b[0;34m=\u001b[0m\u001b[0mval_generator\u001b[0m\u001b[0;34m,\u001b[0m\u001b[0;34m\u001b[0m\u001b[0;34m\u001b[0m\u001b[0m\n\u001b[0;32m---> 48\u001b[0;31m             validation_steps=validation_steps, class_weight=None, workers=1, initial_epoch=0)\n\u001b[0m",
      "\u001b[0;32m/usr/local/lib/python3.7/dist-packages/keras/engine/training.py\u001b[0m in \u001b[0;36mfit_generator\u001b[0;34m(self, generator, steps_per_epoch, epochs, verbose, callbacks, validation_data, validation_steps, validation_freq, class_weight, max_queue_size, workers, use_multiprocessing, shuffle, initial_epoch)\u001b[0m\n\u001b[1;32m   1987\u001b[0m         \u001b[0muse_multiprocessing\u001b[0m\u001b[0;34m=\u001b[0m\u001b[0muse_multiprocessing\u001b[0m\u001b[0;34m,\u001b[0m\u001b[0;34m\u001b[0m\u001b[0;34m\u001b[0m\u001b[0m\n\u001b[1;32m   1988\u001b[0m         \u001b[0mshuffle\u001b[0m\u001b[0;34m=\u001b[0m\u001b[0mshuffle\u001b[0m\u001b[0;34m,\u001b[0m\u001b[0;34m\u001b[0m\u001b[0;34m\u001b[0m\u001b[0m\n\u001b[0;32m-> 1989\u001b[0;31m         initial_epoch=initial_epoch)\n\u001b[0m\u001b[1;32m   1990\u001b[0m \u001b[0;34m\u001b[0m\u001b[0m\n\u001b[1;32m   1991\u001b[0m   \u001b[0;34m@\u001b[0m\u001b[0mdoc_controls\u001b[0m\u001b[0;34m.\u001b[0m\u001b[0mdo_not_generate_docs\u001b[0m\u001b[0;34m\u001b[0m\u001b[0;34m\u001b[0m\u001b[0m\n",
      "\u001b[0;32m/usr/local/lib/python3.7/dist-packages/keras/engine/training.py\u001b[0m in \u001b[0;36mfit\u001b[0;34m(self, x, y, batch_size, epochs, verbose, callbacks, validation_split, validation_data, shuffle, class_weight, sample_weight, initial_epoch, steps_per_epoch, validation_steps, validation_batch_size, validation_freq, max_queue_size, workers, use_multiprocessing)\u001b[0m\n\u001b[1;32m   1182\u001b[0m                 _r=1):\n\u001b[1;32m   1183\u001b[0m               \u001b[0mcallbacks\u001b[0m\u001b[0;34m.\u001b[0m\u001b[0mon_train_batch_begin\u001b[0m\u001b[0;34m(\u001b[0m\u001b[0mstep\u001b[0m\u001b[0;34m)\u001b[0m\u001b[0;34m\u001b[0m\u001b[0;34m\u001b[0m\u001b[0m\n\u001b[0;32m-> 1184\u001b[0;31m               \u001b[0mtmp_logs\u001b[0m \u001b[0;34m=\u001b[0m \u001b[0mself\u001b[0m\u001b[0;34m.\u001b[0m\u001b[0mtrain_function\u001b[0m\u001b[0;34m(\u001b[0m\u001b[0miterator\u001b[0m\u001b[0;34m)\u001b[0m\u001b[0;34m\u001b[0m\u001b[0;34m\u001b[0m\u001b[0m\n\u001b[0m\u001b[1;32m   1185\u001b[0m               \u001b[0;32mif\u001b[0m \u001b[0mdata_handler\u001b[0m\u001b[0;34m.\u001b[0m\u001b[0mshould_sync\u001b[0m\u001b[0;34m:\u001b[0m\u001b[0;34m\u001b[0m\u001b[0;34m\u001b[0m\u001b[0m\n\u001b[1;32m   1186\u001b[0m                 \u001b[0mcontext\u001b[0m\u001b[0;34m.\u001b[0m\u001b[0masync_wait\u001b[0m\u001b[0;34m(\u001b[0m\u001b[0;34m)\u001b[0m\u001b[0;34m\u001b[0m\u001b[0;34m\u001b[0m\u001b[0m\n",
      "\u001b[0;32m/usr/local/lib/python3.7/dist-packages/tensorflow/python/eager/def_function.py\u001b[0m in \u001b[0;36m__call__\u001b[0;34m(self, *args, **kwds)\u001b[0m\n\u001b[1;32m    883\u001b[0m \u001b[0;34m\u001b[0m\u001b[0m\n\u001b[1;32m    884\u001b[0m       \u001b[0;32mwith\u001b[0m \u001b[0mOptionalXlaContext\u001b[0m\u001b[0;34m(\u001b[0m\u001b[0mself\u001b[0m\u001b[0;34m.\u001b[0m\u001b[0m_jit_compile\u001b[0m\u001b[0;34m)\u001b[0m\u001b[0;34m:\u001b[0m\u001b[0;34m\u001b[0m\u001b[0;34m\u001b[0m\u001b[0m\n\u001b[0;32m--> 885\u001b[0;31m         \u001b[0mresult\u001b[0m \u001b[0;34m=\u001b[0m \u001b[0mself\u001b[0m\u001b[0;34m.\u001b[0m\u001b[0m_call\u001b[0m\u001b[0;34m(\u001b[0m\u001b[0;34m*\u001b[0m\u001b[0margs\u001b[0m\u001b[0;34m,\u001b[0m \u001b[0;34m**\u001b[0m\u001b[0mkwds\u001b[0m\u001b[0;34m)\u001b[0m\u001b[0;34m\u001b[0m\u001b[0;34m\u001b[0m\u001b[0m\n\u001b[0m\u001b[1;32m    886\u001b[0m \u001b[0;34m\u001b[0m\u001b[0m\n\u001b[1;32m    887\u001b[0m       \u001b[0mnew_tracing_count\u001b[0m \u001b[0;34m=\u001b[0m \u001b[0mself\u001b[0m\u001b[0;34m.\u001b[0m\u001b[0mexperimental_get_tracing_count\u001b[0m\u001b[0;34m(\u001b[0m\u001b[0;34m)\u001b[0m\u001b[0;34m\u001b[0m\u001b[0;34m\u001b[0m\u001b[0m\n",
      "\u001b[0;32m/usr/local/lib/python3.7/dist-packages/tensorflow/python/eager/def_function.py\u001b[0m in \u001b[0;36m_call\u001b[0;34m(self, *args, **kwds)\u001b[0m\n\u001b[1;32m    948\u001b[0m         \u001b[0;31m# Lifting succeeded, so variables are initialized and we can run the\u001b[0m\u001b[0;34m\u001b[0m\u001b[0;34m\u001b[0m\u001b[0;34m\u001b[0m\u001b[0m\n\u001b[1;32m    949\u001b[0m         \u001b[0;31m# stateless function.\u001b[0m\u001b[0;34m\u001b[0m\u001b[0;34m\u001b[0m\u001b[0;34m\u001b[0m\u001b[0m\n\u001b[0;32m--> 950\u001b[0;31m         \u001b[0;32mreturn\u001b[0m \u001b[0mself\u001b[0m\u001b[0;34m.\u001b[0m\u001b[0m_stateless_fn\u001b[0m\u001b[0;34m(\u001b[0m\u001b[0;34m*\u001b[0m\u001b[0margs\u001b[0m\u001b[0;34m,\u001b[0m \u001b[0;34m**\u001b[0m\u001b[0mkwds\u001b[0m\u001b[0;34m)\u001b[0m\u001b[0;34m\u001b[0m\u001b[0;34m\u001b[0m\u001b[0m\n\u001b[0m\u001b[1;32m    951\u001b[0m     \u001b[0;32melse\u001b[0m\u001b[0;34m:\u001b[0m\u001b[0;34m\u001b[0m\u001b[0;34m\u001b[0m\u001b[0m\n\u001b[1;32m    952\u001b[0m       \u001b[0m_\u001b[0m\u001b[0;34m,\u001b[0m \u001b[0m_\u001b[0m\u001b[0;34m,\u001b[0m \u001b[0m_\u001b[0m\u001b[0;34m,\u001b[0m \u001b[0mfiltered_flat_args\u001b[0m \u001b[0;34m=\u001b[0m\u001b[0;31m \u001b[0m\u001b[0;31m\\\u001b[0m\u001b[0;34m\u001b[0m\u001b[0;34m\u001b[0m\u001b[0m\n",
      "\u001b[0;32m/usr/local/lib/python3.7/dist-packages/tensorflow/python/eager/function.py\u001b[0m in \u001b[0;36m__call__\u001b[0;34m(self, *args, **kwargs)\u001b[0m\n\u001b[1;32m   3038\u001b[0m        filtered_flat_args) = self._maybe_define_function(args, kwargs)\n\u001b[1;32m   3039\u001b[0m     return graph_function._call_flat(\n\u001b[0;32m-> 3040\u001b[0;31m         filtered_flat_args, captured_inputs=graph_function.captured_inputs)  # pylint: disable=protected-access\n\u001b[0m\u001b[1;32m   3041\u001b[0m \u001b[0;34m\u001b[0m\u001b[0m\n\u001b[1;32m   3042\u001b[0m   \u001b[0;34m@\u001b[0m\u001b[0mproperty\u001b[0m\u001b[0;34m\u001b[0m\u001b[0;34m\u001b[0m\u001b[0m\n",
      "\u001b[0;32m/usr/local/lib/python3.7/dist-packages/tensorflow/python/eager/function.py\u001b[0m in \u001b[0;36m_call_flat\u001b[0;34m(self, args, captured_inputs, cancellation_manager)\u001b[0m\n\u001b[1;32m   1962\u001b[0m       \u001b[0;31m# No tape is watching; skip to running the function.\u001b[0m\u001b[0;34m\u001b[0m\u001b[0;34m\u001b[0m\u001b[0;34m\u001b[0m\u001b[0m\n\u001b[1;32m   1963\u001b[0m       return self._build_call_outputs(self._inference_function.call(\n\u001b[0;32m-> 1964\u001b[0;31m           ctx, args, cancellation_manager=cancellation_manager))\n\u001b[0m\u001b[1;32m   1965\u001b[0m     forward_backward = self._select_forward_and_backward_functions(\n\u001b[1;32m   1966\u001b[0m         \u001b[0margs\u001b[0m\u001b[0;34m,\u001b[0m\u001b[0;34m\u001b[0m\u001b[0;34m\u001b[0m\u001b[0m\n",
      "\u001b[0;32m/usr/local/lib/python3.7/dist-packages/tensorflow/python/eager/function.py\u001b[0m in \u001b[0;36mcall\u001b[0;34m(self, ctx, args, cancellation_manager)\u001b[0m\n\u001b[1;32m    594\u001b[0m               \u001b[0minputs\u001b[0m\u001b[0;34m=\u001b[0m\u001b[0margs\u001b[0m\u001b[0;34m,\u001b[0m\u001b[0;34m\u001b[0m\u001b[0;34m\u001b[0m\u001b[0m\n\u001b[1;32m    595\u001b[0m               \u001b[0mattrs\u001b[0m\u001b[0;34m=\u001b[0m\u001b[0mattrs\u001b[0m\u001b[0;34m,\u001b[0m\u001b[0;34m\u001b[0m\u001b[0;34m\u001b[0m\u001b[0m\n\u001b[0;32m--> 596\u001b[0;31m               ctx=ctx)\n\u001b[0m\u001b[1;32m    597\u001b[0m         \u001b[0;32melse\u001b[0m\u001b[0;34m:\u001b[0m\u001b[0;34m\u001b[0m\u001b[0;34m\u001b[0m\u001b[0m\n\u001b[1;32m    598\u001b[0m           outputs = execute.execute_with_cancellation(\n",
      "\u001b[0;32m/usr/local/lib/python3.7/dist-packages/tensorflow/python/eager/execute.py\u001b[0m in \u001b[0;36mquick_execute\u001b[0;34m(op_name, num_outputs, inputs, attrs, ctx, name)\u001b[0m\n\u001b[1;32m     58\u001b[0m     \u001b[0mctx\u001b[0m\u001b[0;34m.\u001b[0m\u001b[0mensure_initialized\u001b[0m\u001b[0;34m(\u001b[0m\u001b[0;34m)\u001b[0m\u001b[0;34m\u001b[0m\u001b[0;34m\u001b[0m\u001b[0m\n\u001b[1;32m     59\u001b[0m     tensors = pywrap_tfe.TFE_Py_Execute(ctx._handle, device_name, op_name,\n\u001b[0;32m---> 60\u001b[0;31m                                         inputs, attrs, num_outputs)\n\u001b[0m\u001b[1;32m     61\u001b[0m   \u001b[0;32mexcept\u001b[0m \u001b[0mcore\u001b[0m\u001b[0;34m.\u001b[0m\u001b[0m_NotOkStatusException\u001b[0m \u001b[0;32mas\u001b[0m \u001b[0me\u001b[0m\u001b[0;34m:\u001b[0m\u001b[0;34m\u001b[0m\u001b[0;34m\u001b[0m\u001b[0m\n\u001b[1;32m     62\u001b[0m     \u001b[0;32mif\u001b[0m \u001b[0mname\u001b[0m \u001b[0;32mis\u001b[0m \u001b[0;32mnot\u001b[0m \u001b[0;32mNone\u001b[0m\u001b[0;34m:\u001b[0m\u001b[0;34m\u001b[0m\u001b[0;34m\u001b[0m\u001b[0m\n",
      "\u001b[0;31mResourceExhaustedError\u001b[0m:  OOM when allocating tensor with shape[1280,512,6,6] and type float on /job:localhost/replica:0/task:0/device:GPU:0 by allocator GPU_0_bfc\n\t [[node mobilenet_lstm/time_distributed_4/conv_dw_9_bn/FusedBatchNormV3 (defined at <ipython-input-34-cabde60b32e0>:48) ]]\nHint: If you want to see a list of allocated tensors when OOM happens, add report_tensor_allocations_upon_oom to RunOptions for current allocation info. This isn't available when running in Eager mode.\n [Op:__inference_train_function_43913]\n\nFunction call stack:\ntrain_function\n"
     ]
    }
   ],
   "source": [
    "from tensorflow.keras.applications import mobilenet\n",
    "mobilenet = mobilenet.MobileNet(weights='imagenet', include_top=False)\n",
    "\n",
    "n_frames = 20\n",
    "num_epochs = 20\n",
    "batch_size = 64\n",
    "\n",
    "img_tensor = getImgTensor(n_frames)\n",
    "train_generator = generator(train_path, train_doc, batch_size)\n",
    "val_generator = generator(val_path, val_doc, batch_size)\n",
    "\n",
    "if (num_train_sequences%batch_size) == 0:\n",
    "    steps_per_epoch = int(num_train_sequences/batch_size)\n",
    "else:\n",
    "    steps_per_epoch = (num_train_sequences//batch_size) + 1\n",
    "\n",
    "if (num_val_sequences%batch_size) == 0:\n",
    "    validation_steps = int(num_val_sequences/batch_size)\n",
    "else:\n",
    "    validation_steps = (num_val_sequences//batch_size) + 1\n",
    "    \n",
    "inputShape = (len(img_tensor[0]), img_tensor[1], img_tensor[2], img_tensor[3])\n",
    "\n",
    "model6 = Sequential([\n",
    "    TimeDistributed(mobilenet, input_shape=inputShape)\n",
    "], name=\"mobilenet_lstm\")\n",
    "\n",
    "model6.add(TimeDistributed(BatchNormalization()))\n",
    "model6.add(TimeDistributed(MaxPooling2D(make2dFilter(2))))\n",
    "model6.add(TimeDistributed(Flatten()))\n",
    "\n",
    "model6.add(GRU(256))\n",
    "model6.add(Dropout(0.2))\n",
    "\n",
    "model6.add(Dense(256,activation='relu'))\n",
    "model6.add(Dropout(0.2))\n",
    "\n",
    "model6.add(Dense(5, activation='softmax'))\n",
    "\n",
    "model6.compile(optimizer='adam', loss='categorical_crossentropy', metrics=['categorical_accuracy'])\n",
    "print(model6.summary())\n",
    "\n",
    "model6_history = model6.fit_generator(train_generator, steps_per_epoch=steps_per_epoch, epochs=num_epochs, verbose=1, \n",
    "            callbacks=callbacks_list, validation_data=val_generator, \n",
    "            validation_steps=validation_steps, class_weight=None, workers=1, initial_epoch=0)"
   ]
  },
  {
   "cell_type": "markdown",
   "metadata": {
    "id": "QLIoRJdCID7d"
   },
   "source": [
    "Observation: Error: OOM when allocating tensor. Let's try **Model 7** with reduce batch size to 30.\n",
    "\n"
   ]
  },
  {
   "cell_type": "code",
   "execution_count": null,
   "metadata": {
    "colab": {
     "base_uri": "https://localhost:8080/"
    },
    "id": "c7-HZqHMabw-",
    "outputId": "5982b48e-152b-4c3c-a2c8-5b7fb5390e7f"
   },
   "outputs": [
    {
     "name": "stdout",
     "output_type": "stream",
     "text": [
      "WARNING:tensorflow:`input_shape` is undefined or non-square, or `rows` is not in [128, 160, 192, 224]. Weights for input shape (224, 224) will be loaded as the default.\n",
      "Model: \"mobilenet_lstm\"\n",
      "_________________________________________________________________\n",
      "Layer (type)                 Output Shape              Param #   \n",
      "=================================================================\n",
      "time_distributed_8 (TimeDist (None, 20, 3, 3, 1024)    3228864   \n",
      "_________________________________________________________________\n",
      "time_distributed_9 (TimeDist (None, 20, 3, 3, 1024)    4096      \n",
      "_________________________________________________________________\n",
      "time_distributed_10 (TimeDis (None, 20, 1, 1, 1024)    0         \n",
      "_________________________________________________________________\n",
      "time_distributed_11 (TimeDis (None, 20, 1024)          0         \n",
      "_________________________________________________________________\n",
      "gru_1 (GRU)                  (None, 256)               984576    \n",
      "_________________________________________________________________\n",
      "dropout_6 (Dropout)          (None, 256)               0         \n",
      "_________________________________________________________________\n",
      "dense_7 (Dense)              (None, 256)               65792     \n",
      "_________________________________________________________________\n",
      "dropout_7 (Dropout)          (None, 256)               0         \n",
      "_________________________________________________________________\n",
      "dense_8 (Dense)              (None, 5)                 1285      \n",
      "=================================================================\n",
      "Total params: 4,284,613\n",
      "Trainable params: 4,260,677\n",
      "Non-trainable params: 23,936\n",
      "_________________________________________________________________\n",
      "None\n",
      "Source path =  /content/drive/MyDrive/Project_data.zip (Unzipped Files)/Project_data/train ; batch size = 30\n",
      "Printing currently X, Y and Z: 20 100 100\n"
     ]
    },
    {
     "name": "stderr",
     "output_type": "stream",
     "text": [
      "/usr/local/lib/python3.7/dist-packages/keras/engine/training.py:1972: UserWarning: `Model.fit_generator` is deprecated and will be removed in a future version. Please use `Model.fit`, which supports generators.\n",
      "  warnings.warn('`Model.fit_generator` is deprecated and '\n"
     ]
    },
    {
     "name": "stdout",
     "output_type": "stream",
     "text": [
      "Epoch 1/20\n",
      "23/23 [==============================] - ETA: 0s - loss: 0.8290 - categorical_accuracy: 0.6787Source path =  /content/drive/MyDrive/Project_data.zip (Unzipped Files)/Project_data/val ; batch size = 30\n",
      "Printing currently X, Y and Z: 20 100 100\n",
      "23/23 [==============================] - 253s 11s/step - loss: 0.8290 - categorical_accuracy: 0.6787 - val_loss: 0.7002 - val_categorical_accuracy: 0.7800\n",
      "\n",
      "Epoch 00001: saving model to model_init_2021-09-2805_05_34.517409/model-00001-0.82902-0.67873-0.70018-0.78000.h5\n",
      "Epoch 2/20\n",
      "23/23 [==============================] - 39s 2s/step - loss: 0.5947 - categorical_accuracy: 0.7971 - val_loss: 0.9845 - val_categorical_accuracy: 0.6500\n",
      "\n",
      "Epoch 00002: saving model to model_init_2021-09-2805_05_34.517409/model-00002-0.59470-0.79710-0.98450-0.65000.h5\n",
      "Epoch 3/20\n",
      "23/23 [==============================] - 39s 2s/step - loss: 1.0503 - categorical_accuracy: 0.7101 - val_loss: 0.9996 - val_categorical_accuracy: 0.6500\n",
      "\n",
      "Epoch 00003: saving model to model_init_2021-09-2805_05_34.517409/model-00003-1.05035-0.71014-0.99962-0.65000.h5\n",
      "Epoch 4/20\n",
      "23/23 [==============================] - 41s 2s/step - loss: 0.8722 - categorical_accuracy: 0.6522 - val_loss: 1.7837 - val_categorical_accuracy: 0.5250\n",
      "\n",
      "Epoch 00004: saving model to model_init_2021-09-2805_05_34.517409/model-00004-0.87225-0.65217-1.78366-0.52500.h5\n",
      "Epoch 5/20\n",
      "23/23 [==============================] - 38s 2s/step - loss: 1.0219 - categorical_accuracy: 0.6232 - val_loss: 1.1603 - val_categorical_accuracy: 0.6000\n",
      "\n",
      "Epoch 00005: saving model to model_init_2021-09-2805_05_34.517409/model-00005-1.02190-0.62319-1.16035-0.60000.h5\n",
      "\n",
      "Epoch 00005: ReduceLROnPlateau reducing learning rate to 0.00020000000949949026.\n",
      "Epoch 6/20\n",
      "23/23 [==============================] - 38s 2s/step - loss: 0.6624 - categorical_accuracy: 0.8116 - val_loss: 0.4770 - val_categorical_accuracy: 0.8000\n",
      "\n",
      "Epoch 00006: saving model to model_init_2021-09-2805_05_34.517409/model-00006-0.66239-0.81159-0.47702-0.80000.h5\n",
      "Epoch 7/20\n",
      "23/23 [==============================] - 39s 2s/step - loss: 0.5798 - categorical_accuracy: 0.8406 - val_loss: 0.5064 - val_categorical_accuracy: 0.8750\n",
      "\n",
      "Epoch 00007: saving model to model_init_2021-09-2805_05_34.517409/model-00007-0.57977-0.84058-0.50637-0.87500.h5\n",
      "Epoch 8/20\n",
      "23/23 [==============================] - 39s 2s/step - loss: 0.5960 - categorical_accuracy: 0.8261 - val_loss: 0.2006 - val_categorical_accuracy: 0.9750\n",
      "\n",
      "Epoch 00008: saving model to model_init_2021-09-2805_05_34.517409/model-00008-0.59603-0.82609-0.20061-0.97500.h5\n",
      "Epoch 9/20\n",
      "23/23 [==============================] - 38s 2s/step - loss: 0.4442 - categorical_accuracy: 0.7971 - val_loss: 0.2709 - val_categorical_accuracy: 0.9000\n",
      "\n",
      "Epoch 00009: saving model to model_init_2021-09-2805_05_34.517409/model-00009-0.44416-0.79710-0.27095-0.90000.h5\n",
      "Epoch 10/20\n",
      "23/23 [==============================] - 39s 2s/step - loss: 0.6323 - categorical_accuracy: 0.7971 - val_loss: 0.1547 - val_categorical_accuracy: 0.9500\n",
      "\n",
      "Epoch 00010: saving model to model_init_2021-09-2805_05_34.517409/model-00010-0.63234-0.79710-0.15472-0.95000.h5\n",
      "Epoch 11/20\n",
      "23/23 [==============================] - 41s 2s/step - loss: 0.2460 - categorical_accuracy: 0.9130 - val_loss: 0.2829 - val_categorical_accuracy: 0.9000\n",
      "\n",
      "Epoch 00011: saving model to model_init_2021-09-2805_05_34.517409/model-00011-0.24599-0.91304-0.28288-0.90000.h5\n",
      "Epoch 12/20\n",
      "23/23 [==============================] - 39s 2s/step - loss: 0.3067 - categorical_accuracy: 0.9130 - val_loss: 0.1661 - val_categorical_accuracy: 0.9250\n",
      "\n",
      "Epoch 00012: saving model to model_init_2021-09-2805_05_34.517409/model-00012-0.30673-0.91304-0.16614-0.92500.h5\n",
      "Epoch 13/20\n",
      "23/23 [==============================] - 40s 2s/step - loss: 0.2306 - categorical_accuracy: 0.9275 - val_loss: 0.1853 - val_categorical_accuracy: 0.9750\n",
      "\n",
      "Epoch 00013: saving model to model_init_2021-09-2805_05_34.517409/model-00013-0.23063-0.92754-0.18532-0.97500.h5\n",
      "Epoch 14/20\n",
      "23/23 [==============================] - 38s 2s/step - loss: 0.3369 - categorical_accuracy: 0.9130 - val_loss: 0.2337 - val_categorical_accuracy: 0.9250\n",
      "\n",
      "Epoch 00014: saving model to model_init_2021-09-2805_05_34.517409/model-00014-0.33690-0.91304-0.23370-0.92500.h5\n",
      "\n",
      "Epoch 00014: ReduceLROnPlateau reducing learning rate to 4.0000001899898055e-05.\n",
      "Epoch 15/20\n",
      "23/23 [==============================] - 41s 2s/step - loss: 0.3278 - categorical_accuracy: 0.9130 - val_loss: 0.1356 - val_categorical_accuracy: 0.9250\n",
      "\n",
      "Epoch 00015: saving model to model_init_2021-09-2805_05_34.517409/model-00015-0.32784-0.91304-0.13555-0.92500.h5\n",
      "Epoch 16/20\n",
      "23/23 [==============================] - 41s 2s/step - loss: 0.1600 - categorical_accuracy: 0.9565 - val_loss: 0.0661 - val_categorical_accuracy: 0.9750\n",
      "\n",
      "Epoch 00016: saving model to model_init_2021-09-2805_05_34.517409/model-00016-0.15999-0.95652-0.06612-0.97500.h5\n",
      "Epoch 17/20\n",
      "23/23 [==============================] - 38s 2s/step - loss: 0.0784 - categorical_accuracy: 0.9855 - val_loss: 0.2814 - val_categorical_accuracy: 0.8750\n",
      "\n",
      "Epoch 00017: saving model to model_init_2021-09-2805_05_34.517409/model-00017-0.07838-0.98551-0.28142-0.87500.h5\n",
      "Epoch 18/20\n",
      "23/23 [==============================] - 36s 2s/step - loss: 0.2946 - categorical_accuracy: 0.8986 - val_loss: 0.2435 - val_categorical_accuracy: 0.9000\n",
      "\n",
      "Epoch 00018: saving model to model_init_2021-09-2805_05_34.517409/model-00018-0.29462-0.89855-0.24350-0.90000.h5\n",
      "Epoch 19/20\n",
      "23/23 [==============================] - 40s 2s/step - loss: 0.3312 - categorical_accuracy: 0.8841 - val_loss: 0.1243 - val_categorical_accuracy: 0.9500\n",
      "\n",
      "Epoch 00019: saving model to model_init_2021-09-2805_05_34.517409/model-00019-0.33125-0.88406-0.12433-0.95000.h5\n",
      "Epoch 20/20\n",
      "23/23 [==============================] - 41s 2s/step - loss: 0.3066 - categorical_accuracy: 0.9130 - val_loss: 0.1000 - val_categorical_accuracy: 0.9500\n",
      "\n",
      "Epoch 00020: saving model to model_init_2021-09-2805_05_34.517409/model-00020-0.30658-0.91304-0.09997-0.95000.h5\n",
      "\n",
      "Epoch 00020: ReduceLROnPlateau reducing learning rate to 8.000000525498762e-06.\n"
     ]
    }
   ],
   "source": [
    "from tensorflow.keras.applications import mobilenet\n",
    "mobilenet = mobilenet.MobileNet(weights='imagenet', include_top=False)\n",
    "\n",
    "n_frames = 20\n",
    "num_epochs = 20\n",
    "batch_size = 30\n",
    "\n",
    "img_tensor = getImgTensor(n_frames)\n",
    "train_generator = generator(train_path, train_doc, batch_size)\n",
    "val_generator = generator(val_path, val_doc, batch_size)\n",
    "\n",
    "if (num_train_sequences%batch_size) == 0:\n",
    "    steps_per_epoch = int(num_train_sequences/batch_size)\n",
    "else:\n",
    "    steps_per_epoch = (num_train_sequences//batch_size) + 1\n",
    "\n",
    "if (num_val_sequences%batch_size) == 0:\n",
    "    validation_steps = int(num_val_sequences/batch_size)\n",
    "else:\n",
    "    validation_steps = (num_val_sequences//batch_size) + 1\n",
    "    \n",
    "inputShape = (len(img_tensor[0]), img_tensor[1], img_tensor[2], img_tensor[3])\n",
    "\n",
    "model7 = Sequential([\n",
    "    TimeDistributed(mobilenet, input_shape=inputShape)\n",
    "], name=\"mobilenet_gru\")\n",
    "\n",
    "model7.add(TimeDistributed(BatchNormalization()))\n",
    "model7.add(TimeDistributed(MaxPooling2D(make2dFilter(2))))\n",
    "model7.add(TimeDistributed(Flatten()))\n",
    "\n",
    "model7.add(GRU(256))\n",
    "model7.add(Dropout(0.2))\n",
    "\n",
    "model7.add(Dense(256,activation='relu'))\n",
    "model7.add(Dropout(0.2))\n",
    "\n",
    "model7.add(Dense(5, activation='softmax'))\n",
    "\n",
    "model7.compile(optimizer='adam', loss='categorical_crossentropy', metrics=['categorical_accuracy'])\n",
    "print(model7.summary())\n",
    "\n",
    "model7_history = model7.fit_generator(train_generator, steps_per_epoch=steps_per_epoch, epochs=num_epochs, verbose=1, \n",
    "            callbacks=callbacks_list, validation_data=val_generator, \n",
    "            validation_steps=validation_steps, class_weight=None, workers=1, initial_epoch=0)"
   ]
  },
  {
   "cell_type": "code",
   "execution_count": null,
   "metadata": {
    "colab": {
     "base_uri": "https://localhost:8080/",
     "height": 240
    },
    "id": "K422IvXvadvm",
    "outputId": "b6cd569c-e790-470b-8eae-a7030688bb53"
   },
   "outputs": [
    {
     "data": {
      "image/png": "[encoded data removed]",
      "text/plain": [
       "<Figure size 1080x288 with 2 Axes>"
      ]
     },
     "metadata": {
      "needs_background": "light"
     },
     "output_type": "display_data"
    },
    {
     "name": "stdout",
     "output_type": "stream",
     "text": [
      "Max. Training Accuracy 0.9855072498321533\n",
      "Max. Validaiton Accuracy 0.9750000238418579\n"
     ]
    }
   ],
   "source": [
    "plotHistory(model7_history)"
   ]
  },
  {
   "cell_type": "markdown",
   "metadata": {
    "id": "NOBnNEnhLJY-"
   },
   "source": [
    "**With all the experiments so far, we finalized Model 4 - CONV2D+ GRU, which performed well.**\n",
    "\n",
    "Reason:\n",
    "\n",
    "- (Training Accuracy : 97%, Validation Accuracy : 87%).\n",
    "\n",
    "- It is an RNN.\n",
    "\n",
    "- Number of Parameters less according to other models performance\n",
    "\n",
    "- Learning rate gradually improved with Epoch."
   ]
  },
  {
   "cell_type": "markdown",
   "metadata": {
    "id": "XdBuMQT2oL-S"
   },
   "source": [
    "**Due to file size limitation on Upgrad platform, attaching various models H5 files into G drive, which are accessible for review**.\n",
    "https://drive.google.com/drive/folders/1cnM4up3vskxthxs9kjfsAo2KqmEpYpr4?usp=sharing\n"
   ]
  }
 ],
 "metadata": {
  "accelerator": "GPU",
  "colab": {
   "collapsed_sections": [],
   "name": "Gesture_Recognition_Study_Vasu_Srikanth.ipynb",
   "provenance": []
  },
  "kernelspec": {
   "display_name": "Python 3",
   "language": "python",
   "name": "python3"
  },
  "language_info": {
   "codemirror_mode": {
    "name": "ipython",
    "version": 3
   },
   "file_extension": ".py",
   "mimetype": "text/x-python",
   "name": "python",
   "nbconvert_exporter": "python",
   "pygments_lexer": "ipython3",
   "version": "3.8.5"
  }
 },
 "nbformat": 4,
 "nbformat_minor": 1
}
